{
 "cells": [
  {
   "cell_type": "code",
   "execution_count": 2,
   "id": "b7eb9240",
   "metadata": {},
   "outputs": [],
   "source": [
    "import numpy as np\n",
    "import pylidc as pl\n",
    "import os\n",
    "import matplotlib.pyplot as plt\n",
    "import matplotlib.patches as patches\n",
    "import random\n",
    "import pydicom\n",
    "import pandas as pd \n",
    "import seaborn as sns\n",
    "import pickle\n",
    "from PIL import Image\n",
    "from tqdm import tqdm\n",
    "from pylidc.utils import consensus\n",
    "from scipy.stats import entropy\n",
    "from skimage.measure import find_contours"
   ]
  },
  {
   "cell_type": "code",
   "execution_count": 2,
   "id": "1cfbb74c",
   "metadata": {},
   "outputs": [],
   "source": [
    "scans = pl.query(pl.Scan).all()"
   ]
  },
  {
   "cell_type": "code",
   "execution_count": 3,
   "id": "aee579d8",
   "metadata": {},
   "outputs": [
    {
     "name": "stdout",
     "output_type": "stream",
     "text": [
      "  TCIA Patient ID  \\\n",
      "0  LIDC-IDRI-0068   \n",
      "1  LIDC-IDRI-0071   \n",
      "2  LIDC-IDRI-0072   \n",
      "3  LIDC-IDRI-0088   \n",
      "4  LIDC-IDRI-0090   \n",
      "\n",
      "   Diagnosis at the Patient Level\\n0=Unknown\\n1=benign or non-malignant disease\\n2= malignant, primary lung cancer\\n3 = malignant metastatic\\n  \\\n",
      "0                                                  3                                                                                             \n",
      "1                                                  3                                                                                             \n",
      "2                                                  2                                                                                             \n",
      "3                                                  3                                                                                             \n",
      "4                                                  2                                                                                             \n",
      "\n",
      "   Diagnosis Method\\n0 = unknown\\n1 = review of radiological images to show 2 years of stable nodule\\n2 = biopsy\\n3 = surgical resection\\n4 = progression or response  \\\n",
      "0                                                  4                                                                                                                    \n",
      "1                                                  1                                                                                                                    \n",
      "2                                                  4                                                                                                                    \n",
      "3                                                  0                                                                                                                    \n",
      "4                                                  3                                                                                                                    \n",
      "\n",
      "  Primary tumor site for metastatic disease  Nodule 1 Diagnosis  \\\n",
      "0                        Head & Neck Cancer                 3.0   \n",
      "1                              Head & Neck                  1.0   \n",
      "2                               Lung Cancer                 1.0   \n",
      "3                            Uterine Cancer                 0.0   \n",
      "4                                     NSCLC                 2.0   \n",
      "\n",
      "   Nodule 1 Diagnosis Method  Nodule 2 Diagnosis  Nodule 2 Diagnosis Method  \\\n",
      "0                        4.0                 NaN                        NaN   \n",
      "1                        1.0                 NaN                        NaN   \n",
      "2                        4.0                 NaN                        NaN   \n",
      "3                        0.0                 NaN                        NaN   \n",
      "4                        3.0                 NaN                        NaN   \n",
      "\n",
      "  Nodule 3\\nDiagnosis at the Nodule Level \\n0=Unknown\\n1=benign or non-malignant disease\\n2= malignant, primary lung cancer\\n3 = malignant metastatic)\\n  \\\n",
      "0                                                NaN                                                                                                       \n",
      "1                                                NaN                                                                                                       \n",
      "2                                                NaN                                                                                                       \n",
      "3                                                NaN                                                                                                       \n",
      "4                                                NaN                                                                                                       \n",
      "\n",
      "  Nodule 3\\nDiagnosis Method at the Nodule Level\\n0 = unknown\\n1 = review of radiological images to show 2 years of stable nodule\\n2 = biopsy\\n3 = surgical resection\\n4 = progression or response\\n  \\\n",
      "0                                                NaN                                                                                                                                                   \n",
      "1                                                NaN                                                                                                                                                   \n",
      "2                                                NaN                                                                                                                                                   \n",
      "3                                                NaN                                                                                                                                                   \n",
      "4                                                NaN                                                                                                                                                   \n",
      "\n",
      "   Nodule 4\\nDiagnosis at the Nodule Level \\n0=Unknown\\n1=benign or non-malignant disease\\n2= malignant, primary lung cancer\\n3 = malignant metastatic)\\n  \\\n",
      "0                                                NaN                                                                                                        \n",
      "1                                                NaN                                                                                                        \n",
      "2                                                NaN                                                                                                        \n",
      "3                                                NaN                                                                                                        \n",
      "4                                                NaN                                                                                                        \n",
      "\n",
      "   Nodule 4\\nDiagnosis Method at the Nodule Level\\n0 = unknown\\n1 = review of radiological images to show 2 years of stable nodule\\n2 = biopsy\\n3 = surgical resection\\n4 = progression or response\\n  \\\n",
      "0                                                NaN                                                                                                                                                    \n",
      "1                                                NaN                                                                                                                                                    \n",
      "2                                                NaN                                                                                                                                                    \n",
      "3                                                NaN                                                                                                                                                    \n",
      "4                                                NaN                                                                                                                                                    \n",
      "\n",
      "   Nodule 5\\nDiagnosis at the Nodule Level \\n0=Unknown\\n1=benign or non-malignant disease\\n2= malignant, primary lung cancer\\n3 = malignant metastatic)\\n  \\\n",
      "0                                                NaN                                                                                                        \n",
      "1                                                NaN                                                                                                        \n",
      "2                                                NaN                                                                                                        \n",
      "3                                                NaN                                                                                                        \n",
      "4                                                NaN                                                                                                        \n",
      "\n",
      "   Nodule 5\\nDiagnosis Method at the Nodule Level\\n0 = unknown\\n1 = review of radiological images to show 2 years of stable nodule\\n2 = biopsy\\n3 = surgical resection\\n4 = progression or response\\n  \\\n",
      "0                                                NaN                                                                                                                                                    \n",
      "1                                                NaN                                                                                                                                                    \n",
      "2                                                NaN                                                                                                                                                    \n",
      "3                                                NaN                                                                                                                                                    \n",
      "4                                                NaN                                                                                                                                                    \n",
      "\n",
      "   Unnamed: 14  Unnamed: 15  Unnamed: 16  Unnamed: 17  Unnamed: 18  \n",
      "0            0          NaN            0            0            1  \n",
      "1            0          NaN            1            0            0  \n",
      "2            0          NaN            1            0            0  \n",
      "3            1          NaN            0            0            0  \n",
      "4            0          NaN            0            1            0  \n"
     ]
    }
   ],
   "source": [
    "df = pd.read_excel('tcia-diagnosis-data-2012-04-20.xls')\n",
    "print(df.head())"
   ]
  },
  {
   "cell_type": "code",
   "execution_count": 4,
   "id": "683a6945",
   "metadata": {},
   "outputs": [
    {
     "name": "stdout",
     "output_type": "stream",
     "text": [
      "{'LIDC-IDRI-0068': [1], 'LIDC-IDRI-0071': [0], 'LIDC-IDRI-0072': [0], 'LIDC-IDRI-0090': [1], 'LIDC-IDRI-0091': [1], 'LIDC-IDRI-0100': [0], 'LIDC-IDRI-0124': [1], 'LIDC-IDRI-0129': [1], 'LIDC-IDRI-0135': [1], 'LIDC-IDRI-0137': [1], 'LIDC-IDRI-0138': [1], 'LIDC-IDRI-0149': [0], 'LIDC-IDRI-0159': [1], 'LIDC-IDRI-0161': [1], 'LIDC-IDRI-0162': [0], 'LIDC-IDRI-0163': [1], 'LIDC-IDRI-0164': [1], 'LIDC-IDRI-0165': [1], 'LIDC-IDRI-0166': [1], 'LIDC-IDRI-0167': [0], 'LIDC-IDRI-0168': [0], 'LIDC-IDRI-0169': [1], 'LIDC-IDRI-0171': [0, 0], 'LIDC-IDRI-0174': [1, 1], 'LIDC-IDRI-0175': [1], 'LIDC-IDRI-0178': [0], 'LIDC-IDRI-0179': [1], 'LIDC-IDRI-0180': [0], 'LIDC-IDRI-0181': [1], 'LIDC-IDRI-0182': [1], 'LIDC-IDRI-0183': [0], 'LIDC-IDRI-0184': [1], 'LIDC-IDRI-0185': [0], 'LIDC-IDRI-0186': [1], 'LIDC-IDRI-0187': [0], 'LIDC-IDRI-0188': [1], 'LIDC-IDRI-0189': [1], 'LIDC-IDRI-0190': [1, 0], 'LIDC-IDRI-0191': [1], 'LIDC-IDRI-0192': [1], 'LIDC-IDRI-0193': [1], 'LIDC-IDRI-0194': [1, 1], 'LIDC-IDRI-0197': [0], 'LIDC-IDRI-0200': [1], 'LIDC-IDRI-0202': [1], 'LIDC-IDRI-0203': [1], 'LIDC-IDRI-0205': [0], 'LIDC-IDRI-0210': [1], 'LIDC-IDRI-0211': [1], 'LIDC-IDRI-0212': [0], 'LIDC-IDRI-0214': [1, 1], 'LIDC-IDRI-0220': [1], 'LIDC-IDRI-0223': [1, 1], 'LIDC-IDRI-0225': [0], 'LIDC-IDRI-0233': [0], 'LIDC-IDRI-0234': [0, 0], 'LIDC-IDRI-0236': [1], 'LIDC-IDRI-0239': [1], 'LIDC-IDRI-0242': [1], 'LIDC-IDRI-0244': [1], 'LIDC-IDRI-0246': [0], 'LIDC-IDRI-0247': [0], 'LIDC-IDRI-0249': [1], 'LIDC-IDRI-0252': [1], 'LIDC-IDRI-0253': [0], 'LIDC-IDRI-0254': [1], 'LIDC-IDRI-0255': [1], 'LIDC-IDRI-0256': [0], 'LIDC-IDRI-0257': [0], 'LIDC-IDRI-0258': [1, 1], 'LIDC-IDRI-0260': [1], 'LIDC-IDRI-0264': [1], 'LIDC-IDRI-0265': [1], 'LIDC-IDRI-0266': [1], 'LIDC-IDRI-0267': [1], 'LIDC-IDRI-0268': [0], 'LIDC-IDRI-0270': [0], 'LIDC-IDRI-0271': [1], 'LIDC-IDRI-0272': [1, 1], 'LIDC-IDRI-0273': [0], 'LIDC-IDRI-0275': [0], 'LIDC-IDRI-0276': [0], 'LIDC-IDRI-0277': [0], 'LIDC-IDRI-0279': [0], 'LIDC-IDRI-0283': [0], 'LIDC-IDRI-0285': [1], 'LIDC-IDRI-0286': [0], 'LIDC-IDRI-0289': [0, 0], 'LIDC-IDRI-0290': [1], 'LIDC-IDRI-0332': [1, 0], 'LIDC-IDRI-0377': [1], 'LIDC-IDRI-0385': [1], 'LIDC-IDRI-0399': [0], 'LIDC-IDRI-0470': [1, 1], 'LIDC-IDRI-0493': [1], 'LIDC-IDRI-0559': [0], 'LIDC-IDRI-0568': [1], 'LIDC-IDRI-0580': [1], 'LIDC-IDRI-0610': [1], 'LIDC-IDRI-0772': [1], 'LIDC-IDRI-0939': [1], 'LIDC-IDRI-0994': [1], 'LIDC-IDRI-1004': [1], 'LIDC-IDRI-1011': [1, 1]}\n"
     ]
    }
   ],
   "source": [
    "nodule_diagnosis={}\n",
    "for i in range(len(df)):\n",
    "    id = df.loc[i, 'TCIA Patient ID']\n",
    "    nodule1 = df.loc[i, 'Nodule 1 Diagnosis']\n",
    "    nodule2 = df.loc[i, 'Nodule 2 Diagnosis']\n",
    "    if nodule1==1.0 :\n",
    "        nodule_diagnosis[id]=[0]\n",
    "    elif nodule1==2.0 or nodule1==3.0 :\n",
    "        nodule_diagnosis[id]=[1]\n",
    "    if nodule2==1.0 :\n",
    "        nodule_diagnosis[id].append(0)\n",
    "    elif nodule2==2.0 or nodule2==3.0 :\n",
    "        nodule_diagnosis[id].append(1)\n",
    "print(nodule_diagnosis)"
   ]
  },
  {
   "cell_type": "code",
   "execution_count": 5,
   "id": "c3e981a6",
   "metadata": {},
   "outputs": [],
   "source": [
    "patients = []\n",
    "for scan in scans[:555]:\n",
    "    patients.append(scan.patient_id)\n",
    "\n",
    "random.shuffle(patients)\n",
    "    \n",
    "train_split = int(0.7 * len(patients))\n",
    "val_split = int(0.85 * len(patients))\n",
    "\n",
    "train_patients = patients[:train_split]\n",
    "val_patients = patients[train_split:val_split]\n",
    "test_patients = patients[val_split:]\n",
    "\n",
    "\n",
    "with open(\"patients_split.txt\", \"w\") as f:\n",
    "    f.write(\"train:\\n\")\n",
    "    f.writelines(\"\\n\".join(train_patients))\n",
    "    f.write(\"\\nval:\\n\")\n",
    "    f.writelines(\"\\n\".join(val_patients))\n",
    "    f.write(\"\\ntest:\\n\")\n",
    "    f.writelines(\"\\n\".join(test_patients))\n"
   ]
  },
  {
   "cell_type": "code",
   "execution_count": 6,
   "id": "68667aa1",
   "metadata": {},
   "outputs": [],
   "source": [
    "dic={}\n",
    "dic['train']=set(train_patients)\n",
    "dic['val']=set(val_patients)\n",
    "dic['test']=set(test_patients)"
   ]
  },
  {
   "cell_type": "code",
   "execution_count": 7,
   "id": "339a4a77",
   "metadata": {},
   "outputs": [
    {
     "name": "stdout",
     "output_type": "stream",
     "text": [
      "{'LIDC-IDRI-0252', 'LIDC-IDRI-0369', 'LIDC-IDRI-0232', 'LIDC-IDRI-0204', 'LIDC-IDRI-0326', 'LIDC-IDRI-0097', 'LIDC-IDRI-0177', 'LIDC-IDRI-0234', 'LIDC-IDRI-0442', 'LIDC-IDRI-0012', 'LIDC-IDRI-0060', 'LIDC-IDRI-0156', 'LIDC-IDRI-0168', 'LIDC-IDRI-0399', 'LIDC-IDRI-0429', 'LIDC-IDRI-0027', 'LIDC-IDRI-0048', 'LIDC-IDRI-0324', 'LIDC-IDRI-0468', 'LIDC-IDRI-0039', 'LIDC-IDRI-0438', 'LIDC-IDRI-0447', 'LIDC-IDRI-0518', 'LIDC-IDRI-0037', 'LIDC-IDRI-0431', 'LIDC-IDRI-0434', 'LIDC-IDRI-0531', 'LIDC-IDRI-0349', 'LIDC-IDRI-0402', 'LIDC-IDRI-0119', 'LIDC-IDRI-0418', 'LIDC-IDRI-0417', 'LIDC-IDRI-0072', 'LIDC-IDRI-0441', 'LIDC-IDRI-0421', 'LIDC-IDRI-0291', 'LIDC-IDRI-0223', 'LIDC-IDRI-0100', 'LIDC-IDRI-0454', 'LIDC-IDRI-0051', 'LIDC-IDRI-0254', 'LIDC-IDRI-0211', 'LIDC-IDRI-0189', 'LIDC-IDRI-0319', 'LIDC-IDRI-0426', 'LIDC-IDRI-0320', 'LIDC-IDRI-0101', 'LIDC-IDRI-0312', 'LIDC-IDRI-0446', 'LIDC-IDRI-0338', 'LIDC-IDRI-0022', 'LIDC-IDRI-0325', 'LIDC-IDRI-0191', 'LIDC-IDRI-0427', 'LIDC-IDRI-0336', 'LIDC-IDRI-0082', 'LIDC-IDRI-0138', 'LIDC-IDRI-0485', 'LIDC-IDRI-0387', 'LIDC-IDRI-0230', 'LIDC-IDRI-0134', 'LIDC-IDRI-0401', 'LIDC-IDRI-0163', 'LIDC-IDRI-0088', 'LIDC-IDRI-0304', 'LIDC-IDRI-0036', 'LIDC-IDRI-0347', 'LIDC-IDRI-0087', 'LIDC-IDRI-0169', 'LIDC-IDRI-0495', 'LIDC-IDRI-0021', 'LIDC-IDRI-0115', 'LIDC-IDRI-0073', 'LIDC-IDRI-0294', 'LIDC-IDRI-0327', 'LIDC-IDRI-0032', 'LIDC-IDRI-0462', 'LIDC-IDRI-0310', 'LIDC-IDRI-0228', 'LIDC-IDRI-0133', 'LIDC-IDRI-0523', 'LIDC-IDRI-0247', 'LIDC-IDRI-0377'}\n"
     ]
    }
   ],
   "source": [
    "print(dic['val'])"
   ]
  },
  {
   "cell_type": "code",
   "execution_count": 8,
   "id": "c7c95b08",
   "metadata": {},
   "outputs": [],
   "source": [
    "\n",
    "with open('patients_split.pkl', 'wb') as f:\n",
    "    pickle.dump(dic, f)"
   ]
  },
  {
   "cell_type": "code",
   "execution_count": 9,
   "id": "5a0840be",
   "metadata": {},
   "outputs": [],
   "source": [
    "splits = [\"train\", \"val\", \"test\"]"
   ]
  },
  {
   "cell_type": "code",
   "execution_count": 10,
   "id": "471396fa",
   "metadata": {},
   "outputs": [],
   "source": [
    "def part_of_sample(pid) : \n",
    "    global dic, splits\n",
    "    split = None\n",
    "    for s in splits:\n",
    "        if pid in dic[s]:\n",
    "            split = s\n",
    "            break\n",
    "    return split\n",
    "def data_from_dicom(path) :\n",
    "    dir_list=os.listdir(path)\n",
    "    file_name=dir_list[0]\n",
    "    if file_name[-4:]!='.dcm' :\n",
    "        file_name=dir_list[1]\n",
    "    path=os.path.join(path, file_name)\n",
    "    dicom_file = pydicom.dcmread(path, force=True)\n",
    "    try:\n",
    "        age=dicom_file.PatientAge\n",
    "    except Exception as e:\n",
    "        age=None\n",
    "    try:\n",
    "        sex=dicom_file.PatientSex\n",
    "    except Exception as e:\n",
    "        sex=None\n",
    "    try:\n",
    "        ethnicity=dicom_file.EthnicGroup\n",
    "    except Exception as e:\n",
    "        ethnicity=None\n",
    "    try:\n",
    "        pregnancy=dicom_file.PregnancyStatus\n",
    "    except Exception as e:\n",
    "        pregnancy=None\n",
    "    return age, sex, ethnicity, pregnancy\n",
    "def data_from_annotations(cluster) :\n",
    "    nodule_characteristics=[]\n",
    "    for annotation in cluster :\n",
    "        nodule_characteristics.append([annotation.diameter, annotation.subtlety,  annotation.internalStructure, \n",
    "                                       annotation.calcification, annotation.sphericity,  annotation.margin,\n",
    "                                       annotation.texture, annotation.malignancy])\n",
    "    #print(nodule_characteristics)\n",
    "    nodule_characteristics=np.array(nodule_characteristics)\n",
    "    \n",
    "    values, counts = np.unique(nodule_characteristics[:, 2], return_counts=True)\n",
    "    mode_internalStructure = values[np.argmax(counts)]\n",
    "    values, counts = np.unique(nodule_characteristics[:, 3], return_counts=True)\n",
    "    mode_calcification = values[np.argmax(counts)]\n",
    "    \n",
    "    medians = np.median(nodule_characteristics, axis=0)\n",
    "    medians=list(medians)\n",
    "    medians[2]=mode_internalStructure\n",
    "    medians[3]=mode_calcification\n",
    "    #print(medians)\n",
    "    return medians\n",
    "\n",
    "    \n",
    "    \n",
    "    \n",
    "    "
   ]
  },
  {
   "cell_type": "code",
   "execution_count": 11,
   "id": "995d74c6",
   "metadata": {},
   "outputs": [],
   "source": [
    "columns = ['PatientID','Age', 'Sex', 'EthnicGroup', 'PregnancyStatus', 'Contrast', 'NoduleID',  'diameter',\n",
    "          'subtlety', 'internalStructure', 'calcification', 'sphericity', 'margin', 'texture', 'malignancy', 'diagnosis_type',\n",
    "          'split', 'num_radiologists']\n",
    "table_data = pd.DataFrame(columns=columns)"
   ]
  },
  {
   "cell_type": "code",
   "execution_count": 12,
   "id": "64bb5738",
   "metadata": {},
   "outputs": [
    {
     "name": "stderr",
     "output_type": "stream",
     "text": [
      " 12%|█████████▍                                                                       | 65/555 [02:30<19:30,  2.39s/it]"
     ]
    },
    {
     "name": "stdout",
     "output_type": "stream",
     "text": [
      "Failed to reduce all groups to <= 4 Annotations.\n",
      "Some nodules may be close and must be grouped manually.\n"
     ]
    },
    {
     "name": "stderr",
     "output_type": "stream",
     "text": [
      " 18%|██████████████▍                                                                  | 99/555 [04:03<21:51,  2.88s/it]"
     ]
    },
    {
     "name": "stdout",
     "output_type": "stream",
     "text": [
      "Failed to reduce all groups to <= 4 Annotations.\n",
      "Some nodules may be close and must be grouped manually.\n"
     ]
    },
    {
     "name": "stderr",
     "output_type": "stream",
     "text": [
      " 25%|████████████████████                                                            | 139/555 [05:57<28:24,  4.10s/it]"
     ]
    },
    {
     "name": "stdout",
     "output_type": "stream",
     "text": [
      "Failed to reduce all groups to <= 4 Annotations.\n",
      "Some nodules may be close and must be grouped manually.\n"
     ]
    },
    {
     "name": "stderr",
     "output_type": "stream",
     "text": [
      " 37%|█████████████████████████████▍                                                  | 204/555 [08:52<10:42,  1.83s/it]"
     ]
    },
    {
     "name": "stdout",
     "output_type": "stream",
     "text": [
      "Failed to reduce all groups to <= 4 Annotations.\n",
      "Some nodules may be close and must be grouped manually.\n"
     ]
    },
    {
     "name": "stderr",
     "output_type": "stream",
     "text": [
      " 45%|████████████████████████████████████▏                                           | 251/555 [10:11<08:39,  1.71s/it]"
     ]
    },
    {
     "name": "stdout",
     "output_type": "stream",
     "text": [
      "Failed to reduce all groups to <= 4 Annotations.\n",
      "Some nodules may be close and must be grouped manually.\n"
     ]
    },
    {
     "name": "stderr",
     "output_type": "stream",
     "text": [
      " 60%|████████████████████████████████████████████████                                | 333/555 [12:43<05:09,  1.39s/it]"
     ]
    },
    {
     "name": "stdout",
     "output_type": "stream",
     "text": [
      "Failed to reduce all groups to <= 4 Annotations.\n",
      "Some nodules may be close and must be grouped manually.\n"
     ]
    },
    {
     "name": "stderr",
     "output_type": "stream",
     "text": [
      " 61%|█████████████████████████████████████████████████▏                              | 341/555 [13:04<07:14,  2.03s/it]"
     ]
    },
    {
     "name": "stdout",
     "output_type": "stream",
     "text": [
      "Failed to reduce all groups to <= 4 Annotations.\n",
      "Some nodules may be close and must be grouped manually.\n"
     ]
    },
    {
     "name": "stderr",
     "output_type": "stream",
     "text": [
      " 66%|█████████████████████████████████████████████████████▏                          | 369/555 [14:12<04:48,  1.55s/it]"
     ]
    },
    {
     "name": "stdout",
     "output_type": "stream",
     "text": [
      "Failed to reduce all groups to <= 4 Annotations.\n",
      "Some nodules may be close and must be grouped manually.\n"
     ]
    },
    {
     "name": "stderr",
     "output_type": "stream",
     "text": [
      " 73%|██████████████████████████████████████████████████████████▋                     | 407/555 [15:54<09:05,  3.69s/it]"
     ]
    },
    {
     "name": "stdout",
     "output_type": "stream",
     "text": [
      "Failed to reduce all groups to <= 4 Annotations.\n",
      "Some nodules may be close and must be grouped manually.\n"
     ]
    },
    {
     "name": "stderr",
     "output_type": "stream",
     "text": [
      "100%|████████████████████████████████████████████████████████████████████████████████| 555/555 [22:36<00:00,  2.44s/it]\n"
     ]
    }
   ],
   "source": [
    "\n",
    "\n",
    "for scan in tqdm(scans[:555]):\n",
    "    pid = scan.patient_id\n",
    "    #print(pid)\n",
    "    split=part_of_sample(pid)\n",
    "    if split is not None:\n",
    "        try:\n",
    "            clusters=scan.cluster_annotations()\n",
    "            age, sex, ethnicity, pregnancy=data_from_dicom(scan.get_path_to_dicom_files())\n",
    "            contrast=scan.contrast_used\n",
    "            if scan.patient_id in nodule_diagnosis and len(clusters)==1 and len(nodule_diagnosis[scan.patient_id])==1 :\n",
    "                #Пациенты с известными диагнозами\n",
    "                malignancy=nodule_diagnosis[scan.patient_id][0]\n",
    "                medians=data_from_annotations(clusters[0])\n",
    "                new_row = {\n",
    "                    'PatientID': pid,\n",
    "                    'Age': age,\n",
    "                    'Sex': sex,\n",
    "                    'EthnicGroup': ethnicity,\n",
    "                    'PregnancyStatus': pregnancy, \n",
    "                    'Contrast': contrast, \n",
    "                    'NoduleID': i,\n",
    "                    'diameter' : medians[0],\n",
    "                    'subtlety' : medians[1],\n",
    "                    'internalStructure' : medians[2],\n",
    "                    'calcification' : medians[3],\n",
    "                    'sphericity' : medians[4],\n",
    "                    'margin' : medians[5],\n",
    "                    'texture' : medians[6],\n",
    "                    'malignancy' : malignancy,\n",
    "                    'diagnosis_type' : 1,\n",
    "                    'split' : split,\n",
    "                    'num_radiologists' : len(clusters[0])\n",
    "                }\n",
    "\n",
    "                table_data.loc[len(table_data)] = new_row\n",
    "            else :\n",
    "                #Пациенты, класс узлов которых определялся исходя из медианы мнений рентгенологов\n",
    "                for i, cluster in enumerate(clusters):\n",
    "                    medians=data_from_annotations(cluster)\n",
    "                    if medians[7]<3.0 :\n",
    "                        malignancy=0\n",
    "                    elif medians[7]>3.0 :\n",
    "                        malignancy=1\n",
    "                    else :\n",
    "                        malignancy=2\n",
    "                    new_row = {\n",
    "                        'PatientID': pid,\n",
    "                        'Age': age,\n",
    "                        'Sex': sex,\n",
    "                        'EthnicGroup': ethnicity,\n",
    "                        'PregnancyStatus': pregnancy, \n",
    "                        'Contrast': contrast, \n",
    "                        'NoduleID': i,\n",
    "                        'diameter' : medians[0],\n",
    "                        'subtlety' : medians[1],\n",
    "                        'internalStructure' : medians[2],\n",
    "                        'calcification' : medians[3],\n",
    "                        'sphericity' : medians[4],\n",
    "                        'margin' : medians[5],\n",
    "                        'texture' : medians[6],\n",
    "                        'malignancy' : malignancy,\n",
    "                        'diagnosis_type' : 0,\n",
    "                        'split' : split,\n",
    "                        'num_radiologists' : len(cluster)\n",
    "                    }\n",
    "                    table_data.loc[len(table_data)] = new_row\n",
    "        except Exception as e:\n",
    "            print(f\"Ошибка при обработке пациента {pid}: {e}\")\n"
   ]
  },
  {
   "cell_type": "code",
   "execution_count": 13,
   "id": "08db3946",
   "metadata": {},
   "outputs": [
    {
     "data": {
      "text/html": [
       "<div>\n",
       "<style scoped>\n",
       "    .dataframe tbody tr th:only-of-type {\n",
       "        vertical-align: middle;\n",
       "    }\n",
       "\n",
       "    .dataframe tbody tr th {\n",
       "        vertical-align: top;\n",
       "    }\n",
       "\n",
       "    .dataframe thead th {\n",
       "        text-align: right;\n",
       "    }\n",
       "</style>\n",
       "<table border=\"1\" class=\"dataframe\">\n",
       "  <thead>\n",
       "    <tr style=\"text-align: right;\">\n",
       "      <th></th>\n",
       "      <th>PatientID</th>\n",
       "      <th>Age</th>\n",
       "      <th>Sex</th>\n",
       "      <th>EthnicGroup</th>\n",
       "      <th>PregnancyStatus</th>\n",
       "      <th>Contrast</th>\n",
       "      <th>NoduleID</th>\n",
       "      <th>diameter</th>\n",
       "      <th>subtlety</th>\n",
       "      <th>internalStructure</th>\n",
       "      <th>calcification</th>\n",
       "      <th>sphericity</th>\n",
       "      <th>margin</th>\n",
       "      <th>texture</th>\n",
       "      <th>malignancy</th>\n",
       "      <th>diagnosis_type</th>\n",
       "      <th>split</th>\n",
       "      <th>num_radiologists</th>\n",
       "    </tr>\n",
       "  </thead>\n",
       "  <tbody>\n",
       "    <tr>\n",
       "      <th>0</th>\n",
       "      <td>LIDC-IDRI-0078</td>\n",
       "      <td>064Y</td>\n",
       "      <td>F</td>\n",
       "      <td>white-ns</td>\n",
       "      <td>4</td>\n",
       "      <td>True</td>\n",
       "      <td>0</td>\n",
       "      <td>24.150378</td>\n",
       "      <td>4.5</td>\n",
       "      <td>1.0</td>\n",
       "      <td>6.0</td>\n",
       "      <td>4.0</td>\n",
       "      <td>3.5</td>\n",
       "      <td>5.0</td>\n",
       "      <td>1</td>\n",
       "      <td>0</td>\n",
       "      <td>train</td>\n",
       "      <td>4</td>\n",
       "    </tr>\n",
       "    <tr>\n",
       "      <th>1</th>\n",
       "      <td>LIDC-IDRI-0078</td>\n",
       "      <td>064Y</td>\n",
       "      <td>F</td>\n",
       "      <td>white-ns</td>\n",
       "      <td>4</td>\n",
       "      <td>True</td>\n",
       "      <td>1</td>\n",
       "      <td>20.865896</td>\n",
       "      <td>5.0</td>\n",
       "      <td>1.0</td>\n",
       "      <td>6.0</td>\n",
       "      <td>4.0</td>\n",
       "      <td>2.5</td>\n",
       "      <td>4.5</td>\n",
       "      <td>1</td>\n",
       "      <td>0</td>\n",
       "      <td>train</td>\n",
       "      <td>4</td>\n",
       "    </tr>\n",
       "    <tr>\n",
       "      <th>2</th>\n",
       "      <td>LIDC-IDRI-0078</td>\n",
       "      <td>064Y</td>\n",
       "      <td>F</td>\n",
       "      <td>white-ns</td>\n",
       "      <td>4</td>\n",
       "      <td>True</td>\n",
       "      <td>2</td>\n",
       "      <td>5.076662</td>\n",
       "      <td>4.0</td>\n",
       "      <td>1.0</td>\n",
       "      <td>5.0</td>\n",
       "      <td>5.0</td>\n",
       "      <td>5.0</td>\n",
       "      <td>5.0</td>\n",
       "      <td>0</td>\n",
       "      <td>0</td>\n",
       "      <td>train</td>\n",
       "      <td>1</td>\n",
       "    </tr>\n",
       "    <tr>\n",
       "      <th>3</th>\n",
       "      <td>LIDC-IDRI-0078</td>\n",
       "      <td>064Y</td>\n",
       "      <td>F</td>\n",
       "      <td>white-ns</td>\n",
       "      <td>4</td>\n",
       "      <td>True</td>\n",
       "      <td>3</td>\n",
       "      <td>27.333200</td>\n",
       "      <td>5.0</td>\n",
       "      <td>1.0</td>\n",
       "      <td>4.0</td>\n",
       "      <td>4.0</td>\n",
       "      <td>3.0</td>\n",
       "      <td>5.0</td>\n",
       "      <td>1</td>\n",
       "      <td>0</td>\n",
       "      <td>train</td>\n",
       "      <td>4</td>\n",
       "    </tr>\n",
       "    <tr>\n",
       "      <th>4</th>\n",
       "      <td>LIDC-IDRI-0069</td>\n",
       "      <td>051Y</td>\n",
       "      <td>M</td>\n",
       "      <td>white-ns</td>\n",
       "      <td>4</td>\n",
       "      <td>True</td>\n",
       "      <td>0</td>\n",
       "      <td>11.542154</td>\n",
       "      <td>2.5</td>\n",
       "      <td>1.0</td>\n",
       "      <td>6.0</td>\n",
       "      <td>4.5</td>\n",
       "      <td>4.5</td>\n",
       "      <td>5.0</td>\n",
       "      <td>2</td>\n",
       "      <td>0</td>\n",
       "      <td>train</td>\n",
       "      <td>4</td>\n",
       "    </tr>\n",
       "  </tbody>\n",
       "</table>\n",
       "</div>"
      ],
      "text/plain": [
       "        PatientID   Age Sex EthnicGroup PregnancyStatus  Contrast  NoduleID  \\\n",
       "0  LIDC-IDRI-0078  064Y   F    white-ns               4      True         0   \n",
       "1  LIDC-IDRI-0078  064Y   F    white-ns               4      True         1   \n",
       "2  LIDC-IDRI-0078  064Y   F    white-ns               4      True         2   \n",
       "3  LIDC-IDRI-0078  064Y   F    white-ns               4      True         3   \n",
       "4  LIDC-IDRI-0069  051Y   M    white-ns               4      True         0   \n",
       "\n",
       "    diameter  subtlety  internalStructure  calcification  sphericity  margin  \\\n",
       "0  24.150378       4.5                1.0            6.0         4.0     3.5   \n",
       "1  20.865896       5.0                1.0            6.0         4.0     2.5   \n",
       "2   5.076662       4.0                1.0            5.0         5.0     5.0   \n",
       "3  27.333200       5.0                1.0            4.0         4.0     3.0   \n",
       "4  11.542154       2.5                1.0            6.0         4.5     4.5   \n",
       "\n",
       "   texture  malignancy  diagnosis_type  split  num_radiologists  \n",
       "0      5.0           1               0  train                 4  \n",
       "1      4.5           1               0  train                 4  \n",
       "2      5.0           0               0  train                 1  \n",
       "3      5.0           1               0  train                 4  \n",
       "4      5.0           2               0  train                 4  "
      ]
     },
     "execution_count": 13,
     "metadata": {},
     "output_type": "execute_result"
    }
   ],
   "source": [
    "table_data.head()"
   ]
  },
  {
   "cell_type": "code",
   "execution_count": 14,
   "id": "70b57356",
   "metadata": {},
   "outputs": [
    {
     "name": "stdout",
     "output_type": "stream",
     "text": [
      "1452\n"
     ]
    }
   ],
   "source": [
    "print(len(table_data))"
   ]
  },
  {
   "cell_type": "code",
   "execution_count": 15,
   "id": "9b551fda",
   "metadata": {},
   "outputs": [],
   "source": [
    "table_data.to_excel('nodules.xlsx', index=False)"
   ]
  },
  {
   "cell_type": "code",
   "execution_count": 16,
   "id": "0ccd97be",
   "metadata": {},
   "outputs": [
    {
     "name": "stdout",
     "output_type": "stream",
     "text": [
      "0\n"
     ]
    }
   ],
   "source": [
    "scan = pl.query(pl.Scan).filter(pl.Scan.patient_id == 'LIDC-IDRI-0548').first()\n",
    "clusters=scan.cluster_annotations()\n",
    "print(len(clusters))"
   ]
  },
  {
   "cell_type": "code",
   "execution_count": 27,
   "id": "e539db37",
   "metadata": {},
   "outputs": [],
   "source": [
    "table_data=pd.read_excel('nodules.xlsx')"
   ]
  },
  {
   "cell_type": "code",
   "execution_count": 28,
   "id": "5f264a8c",
   "metadata": {},
   "outputs": [
    {
     "data": {
      "text/html": [
       "<div>\n",
       "<style scoped>\n",
       "    .dataframe tbody tr th:only-of-type {\n",
       "        vertical-align: middle;\n",
       "    }\n",
       "\n",
       "    .dataframe tbody tr th {\n",
       "        vertical-align: top;\n",
       "    }\n",
       "\n",
       "    .dataframe thead th {\n",
       "        text-align: right;\n",
       "    }\n",
       "</style>\n",
       "<table border=\"1\" class=\"dataframe\">\n",
       "  <thead>\n",
       "    <tr style=\"text-align: right;\">\n",
       "      <th></th>\n",
       "      <th>PatientID</th>\n",
       "      <th>Age</th>\n",
       "      <th>Sex</th>\n",
       "      <th>EthnicGroup</th>\n",
       "      <th>PregnancyStatus</th>\n",
       "      <th>Contrast</th>\n",
       "      <th>NoduleID</th>\n",
       "      <th>diameter</th>\n",
       "      <th>subtlety</th>\n",
       "      <th>internalStructure</th>\n",
       "      <th>calcification</th>\n",
       "      <th>sphericity</th>\n",
       "      <th>margin</th>\n",
       "      <th>texture</th>\n",
       "      <th>malignancy</th>\n",
       "      <th>diagnosis_type</th>\n",
       "      <th>split</th>\n",
       "      <th>num_radiologists</th>\n",
       "    </tr>\n",
       "  </thead>\n",
       "  <tbody>\n",
       "    <tr>\n",
       "      <th>0</th>\n",
       "      <td>LIDC-IDRI-0078</td>\n",
       "      <td>064Y</td>\n",
       "      <td>F</td>\n",
       "      <td>white-ns</td>\n",
       "      <td>4.0</td>\n",
       "      <td>True</td>\n",
       "      <td>0</td>\n",
       "      <td>24.150378</td>\n",
       "      <td>4.5</td>\n",
       "      <td>1</td>\n",
       "      <td>6</td>\n",
       "      <td>4.0</td>\n",
       "      <td>3.5</td>\n",
       "      <td>5.0</td>\n",
       "      <td>1</td>\n",
       "      <td>0</td>\n",
       "      <td>train</td>\n",
       "      <td>4</td>\n",
       "    </tr>\n",
       "    <tr>\n",
       "      <th>1</th>\n",
       "      <td>LIDC-IDRI-0078</td>\n",
       "      <td>064Y</td>\n",
       "      <td>F</td>\n",
       "      <td>white-ns</td>\n",
       "      <td>4.0</td>\n",
       "      <td>True</td>\n",
       "      <td>1</td>\n",
       "      <td>20.865896</td>\n",
       "      <td>5.0</td>\n",
       "      <td>1</td>\n",
       "      <td>6</td>\n",
       "      <td>4.0</td>\n",
       "      <td>2.5</td>\n",
       "      <td>4.5</td>\n",
       "      <td>1</td>\n",
       "      <td>0</td>\n",
       "      <td>train</td>\n",
       "      <td>4</td>\n",
       "    </tr>\n",
       "    <tr>\n",
       "      <th>2</th>\n",
       "      <td>LIDC-IDRI-0078</td>\n",
       "      <td>064Y</td>\n",
       "      <td>F</td>\n",
       "      <td>white-ns</td>\n",
       "      <td>4.0</td>\n",
       "      <td>True</td>\n",
       "      <td>2</td>\n",
       "      <td>5.076662</td>\n",
       "      <td>4.0</td>\n",
       "      <td>1</td>\n",
       "      <td>5</td>\n",
       "      <td>5.0</td>\n",
       "      <td>5.0</td>\n",
       "      <td>5.0</td>\n",
       "      <td>0</td>\n",
       "      <td>0</td>\n",
       "      <td>train</td>\n",
       "      <td>1</td>\n",
       "    </tr>\n",
       "    <tr>\n",
       "      <th>3</th>\n",
       "      <td>LIDC-IDRI-0078</td>\n",
       "      <td>064Y</td>\n",
       "      <td>F</td>\n",
       "      <td>white-ns</td>\n",
       "      <td>4.0</td>\n",
       "      <td>True</td>\n",
       "      <td>3</td>\n",
       "      <td>27.333200</td>\n",
       "      <td>5.0</td>\n",
       "      <td>1</td>\n",
       "      <td>4</td>\n",
       "      <td>4.0</td>\n",
       "      <td>3.0</td>\n",
       "      <td>5.0</td>\n",
       "      <td>1</td>\n",
       "      <td>0</td>\n",
       "      <td>train</td>\n",
       "      <td>4</td>\n",
       "    </tr>\n",
       "    <tr>\n",
       "      <th>4</th>\n",
       "      <td>LIDC-IDRI-0069</td>\n",
       "      <td>051Y</td>\n",
       "      <td>M</td>\n",
       "      <td>white-ns</td>\n",
       "      <td>4.0</td>\n",
       "      <td>True</td>\n",
       "      <td>0</td>\n",
       "      <td>11.542154</td>\n",
       "      <td>2.5</td>\n",
       "      <td>1</td>\n",
       "      <td>6</td>\n",
       "      <td>4.5</td>\n",
       "      <td>4.5</td>\n",
       "      <td>5.0</td>\n",
       "      <td>2</td>\n",
       "      <td>0</td>\n",
       "      <td>train</td>\n",
       "      <td>4</td>\n",
       "    </tr>\n",
       "  </tbody>\n",
       "</table>\n",
       "</div>"
      ],
      "text/plain": [
       "        PatientID   Age Sex EthnicGroup  PregnancyStatus  Contrast  NoduleID  \\\n",
       "0  LIDC-IDRI-0078  064Y   F    white-ns              4.0      True         0   \n",
       "1  LIDC-IDRI-0078  064Y   F    white-ns              4.0      True         1   \n",
       "2  LIDC-IDRI-0078  064Y   F    white-ns              4.0      True         2   \n",
       "3  LIDC-IDRI-0078  064Y   F    white-ns              4.0      True         3   \n",
       "4  LIDC-IDRI-0069  051Y   M    white-ns              4.0      True         0   \n",
       "\n",
       "    diameter  subtlety  internalStructure  calcification  sphericity  margin  \\\n",
       "0  24.150378       4.5                  1              6         4.0     3.5   \n",
       "1  20.865896       5.0                  1              6         4.0     2.5   \n",
       "2   5.076662       4.0                  1              5         5.0     5.0   \n",
       "3  27.333200       5.0                  1              4         4.0     3.0   \n",
       "4  11.542154       2.5                  1              6         4.5     4.5   \n",
       "\n",
       "   texture  malignancy  diagnosis_type  split  num_radiologists  \n",
       "0      5.0           1               0  train                 4  \n",
       "1      4.5           1               0  train                 4  \n",
       "2      5.0           0               0  train                 1  \n",
       "3      5.0           1               0  train                 4  \n",
       "4      5.0           2               0  train                 4  "
      ]
     },
     "execution_count": 28,
     "metadata": {},
     "output_type": "execute_result"
    }
   ],
   "source": [
    "table_data.head()"
   ]
  },
  {
   "cell_type": "code",
   "execution_count": 29,
   "id": "f8e13300",
   "metadata": {},
   "outputs": [],
   "source": [
    "table_data['Age'] = table_data['Age'].str.extract(r'(\\d+)') \n",
    "table_data['Age'] = pd.to_numeric(table_data['Age'], errors='coerce') \n",
    "#table_data.drop(columns=['PatientID', 'split', 'NoduleID', 'diagnosis_type', 'num_radiologists'], inplace=True)"
   ]
  },
  {
   "cell_type": "code",
   "execution_count": 20,
   "id": "f936e0c4",
   "metadata": {},
   "outputs": [
    {
     "name": "stdout",
     "output_type": "stream",
     "text": [
      "609\n",
      "7.816811551723556\n"
     ]
    },
    {
     "data": {
      "image/png": "[encoded data removed]",
      "text/plain": [
       "<Figure size 432x288 with 1 Axes>"
      ]
     },
     "metadata": {
      "needs_background": "light"
     },
     "output_type": "display_data"
    },
    {
     "name": "stdout",
     "output_type": "stream",
     "text": [
      "336\n",
      "18.494382136981425\n"
     ]
    },
    {
     "data": {
      "image/png": "[encoded data removed]",
      "text/plain": [
       "<Figure size 432x288 with 1 Axes>"
      ]
     },
     "metadata": {
      "needs_background": "light"
     },
     "output_type": "display_data"
    },
    {
     "name": "stdout",
     "output_type": "stream",
     "text": [
      "507\n",
      "8.72604275366372\n"
     ]
    },
    {
     "data": {
      "image/png": "[encoded data removed]",
      "text/plain": [
       "<Figure size 432x288 with 1 Axes>"
      ]
     },
     "metadata": {
      "needs_background": "light"
     },
     "output_type": "display_data"
    }
   ],
   "source": [
    "feature = 'diameter'\n",
    "target = 'malignancy'\n",
    "\n",
    "classes = table_data[target].unique()\n",
    "\n",
    "for cls in sorted(classes):\n",
    "    subset = table_data[table_data[target] == cls]\n",
    "    print(len(subset))\n",
    "    print(subset['diameter'].mean())\n",
    "    plt.figure()\n",
    "    sns.histplot(subset[feature], kde=True, bins=30)\n",
    "    plt.title(f\"Распределение '{feature}' для класса {cls}\")\n",
    "    plt.xlabel(feature)\n",
    "    plt.ylabel(\"Частота\")\n",
    "    plt.show()\n"
   ]
  },
  {
   "cell_type": "code",
   "execution_count": 21,
   "id": "a0bc1603",
   "metadata": {},
   "outputs": [
    {
     "name": "stdout",
     "output_type": "stream",
     "text": [
      "609\n",
      "59.44117647058823\n"
     ]
    },
    {
     "data": {
      "image/png": "[encoded data removed]",
      "text/plain": [
       "<Figure size 432x288 with 1 Axes>"
      ]
     },
     "metadata": {
      "needs_background": "light"
     },
     "output_type": "display_data"
    },
    {
     "name": "stdout",
     "output_type": "stream",
     "text": [
      "336\n",
      "60.22222222222222\n"
     ]
    },
    {
     "data": {
      "image/png": "[encoded data removed]",
      "text/plain": [
       "<Figure size 432x288 with 1 Axes>"
      ]
     },
     "metadata": {
      "needs_background": "light"
     },
     "output_type": "display_data"
    },
    {
     "name": "stdout",
     "output_type": "stream",
     "text": [
      "507\n",
      "59.109375\n"
     ]
    },
    {
     "data": {
      "image/png": "[encoded data removed]",
      "text/plain": [
       "<Figure size 432x288 with 1 Axes>"
      ]
     },
     "metadata": {
      "needs_background": "light"
     },
     "output_type": "display_data"
    }
   ],
   "source": [
    "feature = 'Age'\n",
    "target = 'malignancy'\n",
    "\n",
    "classes = table_data[target].unique()\n",
    "\n",
    "for cls in sorted(classes):\n",
    "    subset = table_data[table_data[target] == cls]\n",
    "    print(len(subset))\n",
    "    print(subset[feature].mean())\n",
    "    plt.figure()\n",
    "    sns.histplot(subset[feature], kde=True, bins=30)\n",
    "    plt.title(f\"Распределение '{feature}' для класса {cls}\")\n",
    "    plt.xlabel(feature)\n",
    "    plt.ylabel(\"Частота\")\n",
    "    plt.show()"
   ]
  },
  {
   "cell_type": "code",
   "execution_count": 22,
   "id": "0f71a264",
   "metadata": {},
   "outputs": [
    {
     "name": "stdout",
     "output_type": "stream",
     "text": [
      "609\n",
      "3.435960591133005\n"
     ]
    },
    {
     "data": {
      "image/png": "[encoded data removed]",
      "text/plain": [
       "<Figure size 432x288 with 1 Axes>"
      ]
     },
     "metadata": {
      "needs_background": "light"
     },
     "output_type": "display_data"
    },
    {
     "name": "stdout",
     "output_type": "stream",
     "text": [
      "336\n",
      "4.520833333333333\n"
     ]
    },
    {
     "data": {
      "image/png": "[encoded data removed]",
      "text/plain": [
       "<Figure size 432x288 with 1 Axes>"
      ]
     },
     "metadata": {
      "needs_background": "light"
     },
     "output_type": "display_data"
    },
    {
     "name": "stdout",
     "output_type": "stream",
     "text": [
      "507\n",
      "3.3826429980276136\n"
     ]
    },
    {
     "data": {
      "image/png": "[encoded data removed]",
      "text/plain": [
       "<Figure size 432x288 with 1 Axes>"
      ]
     },
     "metadata": {
      "needs_background": "light"
     },
     "output_type": "display_data"
    }
   ],
   "source": [
    "feature = 'subtlety'\n",
    "target = 'malignancy'\n",
    "\n",
    "classes = table_data[target].unique()\n",
    "\n",
    "for cls in sorted(classes):\n",
    "    subset = table_data[table_data[target] == cls]\n",
    "    print(len(subset))\n",
    "    print(subset[feature].mean())\n",
    "    plt.figure()\n",
    "    sns.histplot(subset[feature], kde=True, bins=30)\n",
    "    plt.title(f\"Распределение '{feature}' для класса {cls}\")\n",
    "    plt.xlabel(feature)\n",
    "    plt.ylabel(\"Частота\")\n",
    "    plt.show()"
   ]
  },
  {
   "cell_type": "code",
   "execution_count": 30,
   "id": "eec0393d",
   "metadata": {},
   "outputs": [
    {
     "name": "stdout",
     "output_type": "stream",
     "text": [
      "842\n"
     ]
    }
   ],
   "source": [
    "table_data = table_data[(table_data['num_radiologists'] >=3) | (table_data['diagnosis_type'] == 1)]\n",
    "print(len(table_data))"
   ]
  },
  {
   "cell_type": "code",
   "execution_count": 22,
   "id": "5be2b0ea",
   "metadata": {},
   "outputs": [
    {
     "name": "stdout",
     "output_type": "stream",
     "text": [
      "255\n",
      "8.478195708880206\n"
     ]
    },
    {
     "data": {
      "image/png": "[encoded data removed]",
      "text/plain": [
       "<Figure size 432x288 with 1 Axes>"
      ]
     },
     "metadata": {
      "needs_background": "light"
     },
     "output_type": "display_data"
    },
    {
     "name": "stdout",
     "output_type": "stream",
     "text": [
      "283\n",
      "18.932282649381992\n"
     ]
    },
    {
     "data": {
      "image/png": "[encoded data removed]",
      "text/plain": [
       "<Figure size 432x288 with 1 Axes>"
      ]
     },
     "metadata": {
      "needs_background": "light"
     },
     "output_type": "display_data"
    },
    {
     "name": "stdout",
     "output_type": "stream",
     "text": [
      "304\n",
      "9.46442895988732\n"
     ]
    },
    {
     "data": {
      "image/png": "[encoded data removed]",
      "text/plain": [
       "<Figure size 432x288 with 1 Axes>"
      ]
     },
     "metadata": {
      "needs_background": "light"
     },
     "output_type": "display_data"
    }
   ],
   "source": [
    "feature = 'diameter'\n",
    "target = 'malignancy'\n",
    "\n",
    "classes = table_data[target].unique()\n",
    "\n",
    "for cls in sorted(classes):\n",
    "    subset = table_data[table_data[target] == cls]\n",
    "    print(len(subset))\n",
    "    print(subset['diameter'].mean())\n",
    "    plt.figure()\n",
    "    sns.histplot(subset[feature], kde=True, bins=30)\n",
    "    plt.title(f\"Распределение '{feature}' для класса {cls}\")\n",
    "    plt.xlabel(feature)\n",
    "    plt.ylabel(\"Частота\")\n",
    "    plt.show()"
   ]
  },
  {
   "cell_type": "code",
   "execution_count": 27,
   "id": "86fd85a2",
   "metadata": {},
   "outputs": [
    {
     "name": "stdout",
     "output_type": "stream",
     "text": [
      "255\n",
      "58.18478260869565\n"
     ]
    },
    {
     "data": {
      "image/png": "[encoded data removed]",
      "text/plain": [
       "<Figure size 432x288 with 1 Axes>"
      ]
     },
     "metadata": {
      "needs_background": "light"
     },
     "output_type": "display_data"
    },
    {
     "name": "stdout",
     "output_type": "stream",
     "text": [
      "283\n",
      "59.77\n"
     ]
    },
    {
     "data": {
      "image/png": "[encoded data removed]",
      "text/plain": [
       "<Figure size 432x288 with 1 Axes>"
      ]
     },
     "metadata": {
      "needs_background": "light"
     },
     "output_type": "display_data"
    },
    {
     "name": "stdout",
     "output_type": "stream",
     "text": [
      "304\n",
      "60.13414634146341\n"
     ]
    },
    {
     "data": {
      "image/png": "[encoded data removed]",
      "text/plain": [
       "<Figure size 432x288 with 1 Axes>"
      ]
     },
     "metadata": {
      "needs_background": "light"
     },
     "output_type": "display_data"
    }
   ],
   "source": [
    "feature = 'Age'\n",
    "target = 'malignancy'\n",
    "\n",
    "classes = table_data[target].unique()\n",
    "\n",
    "for cls in sorted(classes):\n",
    "    subset = table_data[table_data[target] == cls]\n",
    "    print(len(subset))\n",
    "    print(subset[feature].mean())\n",
    "    plt.figure()\n",
    "    sns.histplot(subset[feature], kde=True)\n",
    "    plt.title(f\"Распределение '{feature}' для класса {cls}\")\n",
    "    plt.xlabel(feature)\n",
    "    plt.ylabel(\"Частота\")\n",
    "    plt.show()"
   ]
  },
  {
   "cell_type": "code",
   "execution_count": 28,
   "id": "42359b2e",
   "metadata": {},
   "outputs": [
    {
     "name": "stdout",
     "output_type": "stream",
     "text": [
      "255\n",
      "3.8705882352941177\n"
     ]
    },
    {
     "data": {
      "image/png": "[encoded data removed]",
      "text/plain": [
       "<Figure size 432x288 with 1 Axes>"
      ]
     },
     "metadata": {
      "needs_background": "light"
     },
     "output_type": "display_data"
    },
    {
     "name": "stdout",
     "output_type": "stream",
     "text": [
      "283\n",
      "4.630742049469965\n"
     ]
    },
    {
     "data": {
      "image/png": "[encoded data removed]",
      "text/plain": [
       "<Figure size 432x288 with 1 Axes>"
      ]
     },
     "metadata": {
      "needs_background": "light"
     },
     "output_type": "display_data"
    },
    {
     "name": "stdout",
     "output_type": "stream",
     "text": [
      "304\n",
      "3.508223684210526\n"
     ]
    },
    {
     "data": {
      "image/png": "[encoded data removed]",
      "text/plain": [
       "<Figure size 432x288 with 1 Axes>"
      ]
     },
     "metadata": {
      "needs_background": "light"
     },
     "output_type": "display_data"
    }
   ],
   "source": [
    "feature = 'subtlety'\n",
    "target = 'malignancy'\n",
    "\n",
    "classes = table_data[target].unique()\n",
    "\n",
    "for cls in sorted(classes):\n",
    "    subset = table_data[table_data[target] == cls]\n",
    "    print(len(subset))\n",
    "    print(subset[feature].mean())\n",
    "    plt.figure()\n",
    "    sns.histplot(subset[feature], kde=True)\n",
    "    plt.title(f\"Распределение '{feature}' для класса {cls}\")\n",
    "    plt.xlabel(feature)\n",
    "    plt.ylabel(\"Частота\")\n",
    "    plt.show()"
   ]
  },
  {
   "cell_type": "code",
   "execution_count": 31,
   "id": "572a47bd",
   "metadata": {},
   "outputs": [
    {
     "data": {
      "text/html": [
       "<div>\n",
       "<style scoped>\n",
       "    .dataframe tbody tr th:only-of-type {\n",
       "        vertical-align: middle;\n",
       "    }\n",
       "\n",
       "    .dataframe tbody tr th {\n",
       "        vertical-align: top;\n",
       "    }\n",
       "\n",
       "    .dataframe thead th {\n",
       "        text-align: right;\n",
       "    }\n",
       "</style>\n",
       "<table border=\"1\" class=\"dataframe\">\n",
       "  <thead>\n",
       "    <tr style=\"text-align: right;\">\n",
       "      <th></th>\n",
       "      <th>PatientID</th>\n",
       "      <th>Age</th>\n",
       "      <th>Sex</th>\n",
       "      <th>EthnicGroup</th>\n",
       "      <th>PregnancyStatus</th>\n",
       "      <th>Contrast</th>\n",
       "      <th>NoduleID</th>\n",
       "      <th>diameter</th>\n",
       "      <th>subtlety</th>\n",
       "      <th>internalStructure</th>\n",
       "      <th>calcification</th>\n",
       "      <th>sphericity</th>\n",
       "      <th>margin</th>\n",
       "      <th>texture</th>\n",
       "      <th>malignancy</th>\n",
       "      <th>diagnosis_type</th>\n",
       "      <th>split</th>\n",
       "      <th>num_radiologists</th>\n",
       "    </tr>\n",
       "  </thead>\n",
       "  <tbody>\n",
       "    <tr>\n",
       "      <th>0</th>\n",
       "      <td>LIDC-IDRI-0078</td>\n",
       "      <td>64.0</td>\n",
       "      <td>F</td>\n",
       "      <td>white-ns</td>\n",
       "      <td>4.0</td>\n",
       "      <td>True</td>\n",
       "      <td>0</td>\n",
       "      <td>24.150378</td>\n",
       "      <td>4.5</td>\n",
       "      <td>1</td>\n",
       "      <td>6</td>\n",
       "      <td>4.0</td>\n",
       "      <td>3.5</td>\n",
       "      <td>5.0</td>\n",
       "      <td>1</td>\n",
       "      <td>0</td>\n",
       "      <td>train</td>\n",
       "      <td>4</td>\n",
       "    </tr>\n",
       "    <tr>\n",
       "      <th>1</th>\n",
       "      <td>LIDC-IDRI-0078</td>\n",
       "      <td>64.0</td>\n",
       "      <td>F</td>\n",
       "      <td>white-ns</td>\n",
       "      <td>4.0</td>\n",
       "      <td>True</td>\n",
       "      <td>1</td>\n",
       "      <td>20.865896</td>\n",
       "      <td>5.0</td>\n",
       "      <td>1</td>\n",
       "      <td>6</td>\n",
       "      <td>4.0</td>\n",
       "      <td>2.5</td>\n",
       "      <td>4.5</td>\n",
       "      <td>1</td>\n",
       "      <td>0</td>\n",
       "      <td>train</td>\n",
       "      <td>4</td>\n",
       "    </tr>\n",
       "    <tr>\n",
       "      <th>3</th>\n",
       "      <td>LIDC-IDRI-0078</td>\n",
       "      <td>64.0</td>\n",
       "      <td>F</td>\n",
       "      <td>white-ns</td>\n",
       "      <td>4.0</td>\n",
       "      <td>True</td>\n",
       "      <td>3</td>\n",
       "      <td>27.333200</td>\n",
       "      <td>5.0</td>\n",
       "      <td>1</td>\n",
       "      <td>4</td>\n",
       "      <td>4.0</td>\n",
       "      <td>3.0</td>\n",
       "      <td>5.0</td>\n",
       "      <td>1</td>\n",
       "      <td>0</td>\n",
       "      <td>train</td>\n",
       "      <td>4</td>\n",
       "    </tr>\n",
       "    <tr>\n",
       "      <th>4</th>\n",
       "      <td>LIDC-IDRI-0069</td>\n",
       "      <td>51.0</td>\n",
       "      <td>M</td>\n",
       "      <td>white-ns</td>\n",
       "      <td>4.0</td>\n",
       "      <td>True</td>\n",
       "      <td>0</td>\n",
       "      <td>11.542154</td>\n",
       "      <td>2.5</td>\n",
       "      <td>1</td>\n",
       "      <td>6</td>\n",
       "      <td>4.5</td>\n",
       "      <td>4.5</td>\n",
       "      <td>5.0</td>\n",
       "      <td>2</td>\n",
       "      <td>0</td>\n",
       "      <td>train</td>\n",
       "      <td>4</td>\n",
       "    </tr>\n",
       "    <tr>\n",
       "      <th>6</th>\n",
       "      <td>LIDC-IDRI-0069</td>\n",
       "      <td>51.0</td>\n",
       "      <td>M</td>\n",
       "      <td>white-ns</td>\n",
       "      <td>4.0</td>\n",
       "      <td>True</td>\n",
       "      <td>2</td>\n",
       "      <td>24.323491</td>\n",
       "      <td>5.0</td>\n",
       "      <td>1</td>\n",
       "      <td>6</td>\n",
       "      <td>4.0</td>\n",
       "      <td>3.0</td>\n",
       "      <td>5.0</td>\n",
       "      <td>1</td>\n",
       "      <td>0</td>\n",
       "      <td>train</td>\n",
       "      <td>4</td>\n",
       "    </tr>\n",
       "  </tbody>\n",
       "</table>\n",
       "</div>"
      ],
      "text/plain": [
       "        PatientID   Age Sex EthnicGroup  PregnancyStatus  Contrast  NoduleID  \\\n",
       "0  LIDC-IDRI-0078  64.0   F    white-ns              4.0      True         0   \n",
       "1  LIDC-IDRI-0078  64.0   F    white-ns              4.0      True         1   \n",
       "3  LIDC-IDRI-0078  64.0   F    white-ns              4.0      True         3   \n",
       "4  LIDC-IDRI-0069  51.0   M    white-ns              4.0      True         0   \n",
       "6  LIDC-IDRI-0069  51.0   M    white-ns              4.0      True         2   \n",
       "\n",
       "    diameter  subtlety  internalStructure  calcification  sphericity  margin  \\\n",
       "0  24.150378       4.5                  1              6         4.0     3.5   \n",
       "1  20.865896       5.0                  1              6         4.0     2.5   \n",
       "3  27.333200       5.0                  1              4         4.0     3.0   \n",
       "4  11.542154       2.5                  1              6         4.5     4.5   \n",
       "6  24.323491       5.0                  1              6         4.0     3.0   \n",
       "\n",
       "   texture  malignancy  diagnosis_type  split  num_radiologists  \n",
       "0      5.0           1               0  train                 4  \n",
       "1      4.5           1               0  train                 4  \n",
       "3      5.0           1               0  train                 4  \n",
       "4      5.0           2               0  train                 4  \n",
       "6      5.0           1               0  train                 4  "
      ]
     },
     "execution_count": 31,
     "metadata": {},
     "output_type": "execute_result"
    }
   ],
   "source": [
    "table_data.head()"
   ]
  },
  {
   "cell_type": "code",
   "execution_count": 32,
   "id": "f914dbca",
   "metadata": {},
   "outputs": [
    {
     "data": {
      "text/plain": [
       "28"
      ]
     },
     "execution_count": 32,
     "metadata": {},
     "output_type": "execute_result"
    }
   ],
   "source": [
    "len(table_data[table_data['diagnosis_type']==1])"
   ]
  },
  {
   "cell_type": "code",
   "execution_count": 33,
   "id": "74c605ee",
   "metadata": {},
   "outputs": [
    {
     "data": {
      "text/plain": [
       "PatientID              0\n",
       "Age                  568\n",
       "Sex                  515\n",
       "EthnicGroup          799\n",
       "PregnancyStatus      784\n",
       "Contrast               0\n",
       "NoduleID               0\n",
       "diameter               0\n",
       "subtlety               0\n",
       "internalStructure      0\n",
       "calcification          0\n",
       "sphericity             0\n",
       "margin                 0\n",
       "texture                0\n",
       "malignancy             0\n",
       "diagnosis_type         0\n",
       "split                  0\n",
       "num_radiologists       0\n",
       "dtype: int64"
      ]
     },
     "execution_count": 33,
     "metadata": {},
     "output_type": "execute_result"
    }
   ],
   "source": [
    "table_data.isna().sum()"
   ]
  },
  {
   "cell_type": "code",
   "execution_count": 34,
   "id": "3d7efdb2",
   "metadata": {},
   "outputs": [],
   "source": [
    "table_data.drop(columns=['PatientID', 'NoduleID', 'diagnosis_type', 'num_radiologists', 'EthnicGroup', 'PregnancyStatus'], inplace=True)"
   ]
  },
  {
   "cell_type": "code",
   "execution_count": 35,
   "id": "ff14df92",
   "metadata": {},
   "outputs": [],
   "source": [
    "table_data = pd.get_dummies(table_data, columns=['Contrast', 'internalStructure', 'calcification'], drop_first=True)"
   ]
  },
  {
   "cell_type": "code",
   "execution_count": 36,
   "id": "5ed207a5",
   "metadata": {},
   "outputs": [],
   "source": [
    "table_data['Sex'] = table_data['Sex'].map({'M': 1, 'F': 0})"
   ]
  },
  {
   "cell_type": "code",
   "execution_count": 37,
   "id": "264dfbcd",
   "metadata": {},
   "outputs": [
    {
     "data": {
      "text/html": [
       "<div>\n",
       "<style scoped>\n",
       "    .dataframe tbody tr th:only-of-type {\n",
       "        vertical-align: middle;\n",
       "    }\n",
       "\n",
       "    .dataframe tbody tr th {\n",
       "        vertical-align: top;\n",
       "    }\n",
       "\n",
       "    .dataframe thead th {\n",
       "        text-align: right;\n",
       "    }\n",
       "</style>\n",
       "<table border=\"1\" class=\"dataframe\">\n",
       "  <thead>\n",
       "    <tr style=\"text-align: right;\">\n",
       "      <th></th>\n",
       "      <th>Age</th>\n",
       "      <th>Sex</th>\n",
       "      <th>diameter</th>\n",
       "      <th>subtlety</th>\n",
       "      <th>sphericity</th>\n",
       "      <th>margin</th>\n",
       "      <th>texture</th>\n",
       "      <th>malignancy</th>\n",
       "      <th>split</th>\n",
       "      <th>Contrast_True</th>\n",
       "      <th>internalStructure_4</th>\n",
       "      <th>calcification_2</th>\n",
       "      <th>calcification_3</th>\n",
       "      <th>calcification_4</th>\n",
       "      <th>calcification_5</th>\n",
       "      <th>calcification_6</th>\n",
       "    </tr>\n",
       "  </thead>\n",
       "  <tbody>\n",
       "    <tr>\n",
       "      <th>0</th>\n",
       "      <td>64.0</td>\n",
       "      <td>0.0</td>\n",
       "      <td>24.150378</td>\n",
       "      <td>4.5</td>\n",
       "      <td>4.0</td>\n",
       "      <td>3.5</td>\n",
       "      <td>5.0</td>\n",
       "      <td>1</td>\n",
       "      <td>train</td>\n",
       "      <td>1</td>\n",
       "      <td>0</td>\n",
       "      <td>0</td>\n",
       "      <td>0</td>\n",
       "      <td>0</td>\n",
       "      <td>0</td>\n",
       "      <td>1</td>\n",
       "    </tr>\n",
       "    <tr>\n",
       "      <th>1</th>\n",
       "      <td>64.0</td>\n",
       "      <td>0.0</td>\n",
       "      <td>20.865896</td>\n",
       "      <td>5.0</td>\n",
       "      <td>4.0</td>\n",
       "      <td>2.5</td>\n",
       "      <td>4.5</td>\n",
       "      <td>1</td>\n",
       "      <td>train</td>\n",
       "      <td>1</td>\n",
       "      <td>0</td>\n",
       "      <td>0</td>\n",
       "      <td>0</td>\n",
       "      <td>0</td>\n",
       "      <td>0</td>\n",
       "      <td>1</td>\n",
       "    </tr>\n",
       "    <tr>\n",
       "      <th>3</th>\n",
       "      <td>64.0</td>\n",
       "      <td>0.0</td>\n",
       "      <td>27.333200</td>\n",
       "      <td>5.0</td>\n",
       "      <td>4.0</td>\n",
       "      <td>3.0</td>\n",
       "      <td>5.0</td>\n",
       "      <td>1</td>\n",
       "      <td>train</td>\n",
       "      <td>1</td>\n",
       "      <td>0</td>\n",
       "      <td>0</td>\n",
       "      <td>0</td>\n",
       "      <td>1</td>\n",
       "      <td>0</td>\n",
       "      <td>0</td>\n",
       "    </tr>\n",
       "    <tr>\n",
       "      <th>4</th>\n",
       "      <td>51.0</td>\n",
       "      <td>1.0</td>\n",
       "      <td>11.542154</td>\n",
       "      <td>2.5</td>\n",
       "      <td>4.5</td>\n",
       "      <td>4.5</td>\n",
       "      <td>5.0</td>\n",
       "      <td>2</td>\n",
       "      <td>train</td>\n",
       "      <td>1</td>\n",
       "      <td>0</td>\n",
       "      <td>0</td>\n",
       "      <td>0</td>\n",
       "      <td>0</td>\n",
       "      <td>0</td>\n",
       "      <td>1</td>\n",
       "    </tr>\n",
       "    <tr>\n",
       "      <th>6</th>\n",
       "      <td>51.0</td>\n",
       "      <td>1.0</td>\n",
       "      <td>24.323491</td>\n",
       "      <td>5.0</td>\n",
       "      <td>4.0</td>\n",
       "      <td>3.0</td>\n",
       "      <td>5.0</td>\n",
       "      <td>1</td>\n",
       "      <td>train</td>\n",
       "      <td>1</td>\n",
       "      <td>0</td>\n",
       "      <td>0</td>\n",
       "      <td>0</td>\n",
       "      <td>0</td>\n",
       "      <td>0</td>\n",
       "      <td>1</td>\n",
       "    </tr>\n",
       "  </tbody>\n",
       "</table>\n",
       "</div>"
      ],
      "text/plain": [
       "    Age  Sex   diameter  subtlety  sphericity  margin  texture  malignancy  \\\n",
       "0  64.0  0.0  24.150378       4.5         4.0     3.5      5.0           1   \n",
       "1  64.0  0.0  20.865896       5.0         4.0     2.5      4.5           1   \n",
       "3  64.0  0.0  27.333200       5.0         4.0     3.0      5.0           1   \n",
       "4  51.0  1.0  11.542154       2.5         4.5     4.5      5.0           2   \n",
       "6  51.0  1.0  24.323491       5.0         4.0     3.0      5.0           1   \n",
       "\n",
       "   split  Contrast_True  internalStructure_4  calcification_2  \\\n",
       "0  train              1                    0                0   \n",
       "1  train              1                    0                0   \n",
       "3  train              1                    0                0   \n",
       "4  train              1                    0                0   \n",
       "6  train              1                    0                0   \n",
       "\n",
       "   calcification_3  calcification_4  calcification_5  calcification_6  \n",
       "0                0                0                0                1  \n",
       "1                0                0                0                1  \n",
       "3                0                1                0                0  \n",
       "4                0                0                0                1  \n",
       "6                0                0                0                1  "
      ]
     },
     "execution_count": 37,
     "metadata": {},
     "output_type": "execute_result"
    }
   ],
   "source": [
    "table_data.head()"
   ]
  },
  {
   "cell_type": "code",
   "execution_count": 38,
   "id": "4bccdfe4",
   "metadata": {},
   "outputs": [
    {
     "name": "stdout",
     "output_type": "stream",
     "text": [
      "605\n",
      "393\n"
     ]
    }
   ],
   "source": [
    "sample=table_data[table_data['split']=='train']\n",
    "print(len(sample))\n",
    "sample=sample[sample['malignancy']<=1]\n",
    "print(len(sample))"
   ]
  },
  {
   "cell_type": "code",
   "execution_count": 39,
   "id": "f5ec6685",
   "metadata": {},
   "outputs": [
    {
     "name": "stderr",
     "output_type": "stream",
     "text": [
      "C:\\Users\\Алекхаил\\AppData\\Local\\Temp\\ipykernel_22204\\642784991.py:1: FutureWarning: Dropping of nuisance columns in DataFrame reductions (with 'numeric_only=None') is deprecated; in a future version this will raise TypeError.  Select only valid columns before calling the reduction.\n",
      "  sample.mean()\n"
     ]
    },
    {
     "data": {
      "text/plain": [
       "Age                    59.250000\n",
       "Sex                     0.575949\n",
       "diameter               14.068543\n",
       "subtlety                4.284987\n",
       "sphericity              3.806616\n",
       "margin                  4.202290\n",
       "texture                 4.768448\n",
       "malignancy              0.531807\n",
       "Contrast_True           0.600509\n",
       "internalStructure_4     0.000000\n",
       "calcification_2         0.000000\n",
       "calcification_3         0.170483\n",
       "calcification_4         0.002545\n",
       "calcification_5         0.002545\n",
       "calcification_6         0.824427\n",
       "dtype: float64"
      ]
     },
     "execution_count": 39,
     "metadata": {},
     "output_type": "execute_result"
    }
   ],
   "source": [
    "sample.mean()"
   ]
  },
  {
   "cell_type": "code",
   "execution_count": 40,
   "id": "c5c63a6d",
   "metadata": {},
   "outputs": [
    {
     "name": "stderr",
     "output_type": "stream",
     "text": [
      "C:\\Users\\Алекхаил\\AppData\\Local\\Temp\\ipykernel_22204\\1487051019.py:1: FutureWarning: Dropping of nuisance columns in DataFrame reductions (with 'numeric_only=None') is deprecated; in a future version this will raise TypeError.  Select only valid columns before calling the reduction.\n",
      "  sample.std()\n"
     ]
    },
    {
     "data": {
      "text/plain": [
       "Age                    13.195882\n",
       "Sex                     0.495769\n",
       "diameter                8.103526\n",
       "subtlety                0.786658\n",
       "sphericity              0.745399\n",
       "margin                  0.834780\n",
       "texture                 0.754964\n",
       "malignancy              0.499623\n",
       "Contrast_True           0.490418\n",
       "internalStructure_4     0.000000\n",
       "calcification_2         0.000000\n",
       "calcification_3         0.376536\n",
       "calcification_4         0.050443\n",
       "calcification_5         0.050443\n",
       "calcification_6         0.380941\n",
       "dtype: float64"
      ]
     },
     "execution_count": 40,
     "metadata": {},
     "output_type": "execute_result"
    }
   ],
   "source": [
    "sample.std()"
   ]
  },
  {
   "cell_type": "code",
   "execution_count": 41,
   "id": "6032b375",
   "metadata": {},
   "outputs": [
    {
     "name": "stdout",
     "output_type": "stream",
     "text": [
      "113\n"
     ]
    }
   ],
   "source": [
    "sample=table_data[table_data['split']=='val']\n",
    "print(len(sample))"
   ]
  },
  {
   "cell_type": "code",
   "execution_count": 42,
   "id": "3b9f02cd",
   "metadata": {},
   "outputs": [
    {
     "name": "stderr",
     "output_type": "stream",
     "text": [
      "C:\\Users\\Алекхаил\\AppData\\Local\\Temp\\ipykernel_22204\\642784991.py:1: FutureWarning: Dropping of nuisance columns in DataFrame reductions (with 'numeric_only=None') is deprecated; in a future version this will raise TypeError.  Select only valid columns before calling the reduction.\n",
      "  sample.mean()\n"
     ]
    },
    {
     "data": {
      "text/plain": [
       "Age                    57.548387\n",
       "Sex                     0.421053\n",
       "diameter               13.004001\n",
       "subtlety                4.039823\n",
       "sphericity              3.827434\n",
       "margin                  4.097345\n",
       "texture                 4.628319\n",
       "malignancy              1.097345\n",
       "Contrast_True           0.522124\n",
       "internalStructure_4     0.000000\n",
       "calcification_2         0.017699\n",
       "calcification_3         0.106195\n",
       "calcification_4         0.008850\n",
       "calcification_5         0.017699\n",
       "calcification_6         0.849558\n",
       "dtype: float64"
      ]
     },
     "execution_count": 42,
     "metadata": {},
     "output_type": "execute_result"
    }
   ],
   "source": [
    "sample.mean()"
   ]
  },
  {
   "cell_type": "code",
   "execution_count": 43,
   "id": "a608da80",
   "metadata": {},
   "outputs": [
    {
     "name": "stderr",
     "output_type": "stream",
     "text": [
      "C:\\Users\\Алекхаил\\AppData\\Local\\Temp\\ipykernel_22204\\1487051019.py:1: FutureWarning: Dropping of nuisance columns in DataFrame reductions (with 'numeric_only=None') is deprecated; in a future version this will raise TypeError.  Select only valid columns before calling the reduction.\n",
      "  sample.std()\n"
     ]
    },
    {
     "data": {
      "text/plain": [
       "Age                    14.238068\n",
       "Sex                     0.500355\n",
       "diameter                8.499299\n",
       "subtlety                0.930969\n",
       "sphericity              0.841899\n",
       "margin                  1.028301\n",
       "texture                 1.001737\n",
       "malignancy              0.812454\n",
       "Contrast_True           0.501735\n",
       "internalStructure_4     0.000000\n",
       "calcification_2         0.132443\n",
       "calcification_3         0.309459\n",
       "calcification_4         0.094072\n",
       "calcification_5         0.132443\n",
       "calcification_6         0.359097\n",
       "dtype: float64"
      ]
     },
     "execution_count": 43,
     "metadata": {},
     "output_type": "execute_result"
    }
   ],
   "source": [
    "sample.std()"
   ]
  },
  {
   "cell_type": "code",
   "execution_count": 46,
   "id": "0828d754",
   "metadata": {},
   "outputs": [
    {
     "name": "stdout",
     "output_type": "stream",
     "text": [
      "Доля malignancy=0 0.2831858407079646\n",
      "Доля malignancy=1 0.336283185840708\n",
      "Доля malignancy=2 0.3805309734513274\n"
     ]
    }
   ],
   "source": [
    "print('Доля malignancy=0', len(sample[sample['malignancy']==0])/len(sample))\n",
    "print('Доля malignancy=1', len(sample[sample['malignancy']==1])/len(sample))\n",
    "print('Доля malignancy=2',  len(sample[sample['malignancy']==2])/len(sample))"
   ]
  },
  {
   "cell_type": "code",
   "execution_count": 47,
   "id": "527a66c8",
   "metadata": {},
   "outputs": [
    {
     "name": "stdout",
     "output_type": "stream",
     "text": [
      "124\n"
     ]
    }
   ],
   "source": [
    "sample=table_data[table_data['split']=='test']\n",
    "print(len(sample))"
   ]
  },
  {
   "cell_type": "code",
   "execution_count": 48,
   "id": "ed467acd",
   "metadata": {},
   "outputs": [
    {
     "name": "stderr",
     "output_type": "stream",
     "text": [
      "C:\\Users\\Алекхаил\\AppData\\Local\\Temp\\ipykernel_22204\\642784991.py:1: FutureWarning: Dropping of nuisance columns in DataFrame reductions (with 'numeric_only=None') is deprecated; in a future version this will raise TypeError.  Select only valid columns before calling the reduction.\n",
      "  sample.mean()\n"
     ]
    },
    {
     "data": {
      "text/plain": [
       "Age                    63.071429\n",
       "Sex                     0.500000\n",
       "diameter               11.051139\n",
       "subtlety                3.911290\n",
       "sphericity              3.870968\n",
       "margin                  4.133065\n",
       "texture                 4.600806\n",
       "malignancy              1.080645\n",
       "Contrast_True           0.475806\n",
       "internalStructure_4     0.000000\n",
       "calcification_2         0.000000\n",
       "calcification_3         0.064516\n",
       "calcification_4         0.008065\n",
       "calcification_5         0.000000\n",
       "calcification_6         0.927419\n",
       "dtype: float64"
      ]
     },
     "execution_count": 48,
     "metadata": {},
     "output_type": "execute_result"
    }
   ],
   "source": [
    "sample.mean()"
   ]
  },
  {
   "cell_type": "code",
   "execution_count": 49,
   "id": "b5699d70",
   "metadata": {},
   "outputs": [
    {
     "name": "stderr",
     "output_type": "stream",
     "text": [
      "C:\\Users\\Алекхаил\\AppData\\Local\\Temp\\ipykernel_22204\\1487051019.py:1: FutureWarning: Dropping of nuisance columns in DataFrame reductions (with 'numeric_only=None') is deprecated; in a future version this will raise TypeError.  Select only valid columns before calling the reduction.\n",
      "  sample.std()\n"
     ]
    },
    {
     "data": {
      "text/plain": [
       "Age                    15.064727\n",
       "Sex                     0.505291\n",
       "diameter                6.084694\n",
       "subtlety                0.841138\n",
       "sphericity              0.692207\n",
       "margin                  0.872127\n",
       "texture                 0.892561\n",
       "malignancy              0.841956\n",
       "Contrast_True           0.501440\n",
       "internalStructure_4     0.000000\n",
       "calcification_2         0.000000\n",
       "calcification_3         0.246667\n",
       "calcification_4         0.089803\n",
       "calcification_5         0.000000\n",
       "calcification_6         0.260499\n",
       "dtype: float64"
      ]
     },
     "execution_count": 49,
     "metadata": {},
     "output_type": "execute_result"
    }
   ],
   "source": [
    "sample.std()"
   ]
  },
  {
   "cell_type": "code",
   "execution_count": 50,
   "id": "1a5cb89a",
   "metadata": {},
   "outputs": [
    {
     "name": "stdout",
     "output_type": "stream",
     "text": [
      "Доля malignancy=0 0.31451612903225806\n",
      "Доля malignancy=1 0.2903225806451613\n",
      "Доля malignancy=2 0.3951612903225806\n"
     ]
    }
   ],
   "source": [
    "print('Доля malignancy=0', len(sample[sample['malignancy']==0])/len(sample))\n",
    "print('Доля malignancy=1', len(sample[sample['malignancy']==1])/len(sample))\n",
    "print('Доля malignancy=2',  len(sample[sample['malignancy']==2])/len(sample))"
   ]
  },
  {
   "cell_type": "code",
   "execution_count": null,
   "id": "cf5a5397",
   "metadata": {},
   "outputs": [],
   "source": []
  },
  {
   "cell_type": "code",
   "execution_count": null,
   "id": "deb724e8",
   "metadata": {},
   "outputs": [],
   "source": []
  },
  {
   "cell_type": "code",
   "execution_count": null,
   "id": "25fe2c18",
   "metadata": {},
   "outputs": [],
   "source": []
  },
  {
   "cell_type": "code",
   "execution_count": null,
   "id": "4cec7208",
   "metadata": {},
   "outputs": [],
   "source": []
  },
  {
   "cell_type": "code",
   "execution_count": 11,
   "id": "4afa86bb",
   "metadata": {},
   "outputs": [
    {
     "name": "stdout",
     "output_type": "stream",
     "text": [
      "538\n"
     ]
    }
   ],
   "source": [
    "table_data = table_data[(table_data['malignancy'] <=1)]\n",
    "print(len(table_data))"
   ]
  },
  {
   "cell_type": "code",
   "execution_count": 12,
   "id": "905c0bbe",
   "metadata": {},
   "outputs": [
    {
     "data": {
      "text/html": [
       "<div>\n",
       "<style scoped>\n",
       "    .dataframe tbody tr th:only-of-type {\n",
       "        vertical-align: middle;\n",
       "    }\n",
       "\n",
       "    .dataframe tbody tr th {\n",
       "        vertical-align: top;\n",
       "    }\n",
       "\n",
       "    .dataframe thead th {\n",
       "        text-align: right;\n",
       "    }\n",
       "</style>\n",
       "<table border=\"1\" class=\"dataframe\">\n",
       "  <thead>\n",
       "    <tr style=\"text-align: right;\">\n",
       "      <th></th>\n",
       "      <th>PatientID</th>\n",
       "      <th>Age</th>\n",
       "      <th>Sex</th>\n",
       "      <th>EthnicGroup</th>\n",
       "      <th>PregnancyStatus</th>\n",
       "      <th>Contrast</th>\n",
       "      <th>NoduleID</th>\n",
       "      <th>diameter</th>\n",
       "      <th>subtlety</th>\n",
       "      <th>internalStructure</th>\n",
       "      <th>calcification</th>\n",
       "      <th>sphericity</th>\n",
       "      <th>margin</th>\n",
       "      <th>texture</th>\n",
       "      <th>malignancy</th>\n",
       "      <th>diagnosis_type</th>\n",
       "      <th>split</th>\n",
       "      <th>num_radiologists</th>\n",
       "    </tr>\n",
       "  </thead>\n",
       "  <tbody>\n",
       "    <tr>\n",
       "      <th>0</th>\n",
       "      <td>LIDC-IDRI-0078</td>\n",
       "      <td>64.0</td>\n",
       "      <td>F</td>\n",
       "      <td>white-ns</td>\n",
       "      <td>4.0</td>\n",
       "      <td>True</td>\n",
       "      <td>0</td>\n",
       "      <td>24.150378</td>\n",
       "      <td>4.5</td>\n",
       "      <td>1</td>\n",
       "      <td>6</td>\n",
       "      <td>4.0</td>\n",
       "      <td>3.5</td>\n",
       "      <td>5.0</td>\n",
       "      <td>1</td>\n",
       "      <td>0</td>\n",
       "      <td>train</td>\n",
       "      <td>4</td>\n",
       "    </tr>\n",
       "    <tr>\n",
       "      <th>1</th>\n",
       "      <td>LIDC-IDRI-0078</td>\n",
       "      <td>64.0</td>\n",
       "      <td>F</td>\n",
       "      <td>white-ns</td>\n",
       "      <td>4.0</td>\n",
       "      <td>True</td>\n",
       "      <td>1</td>\n",
       "      <td>20.865896</td>\n",
       "      <td>5.0</td>\n",
       "      <td>1</td>\n",
       "      <td>6</td>\n",
       "      <td>4.0</td>\n",
       "      <td>2.5</td>\n",
       "      <td>4.5</td>\n",
       "      <td>1</td>\n",
       "      <td>0</td>\n",
       "      <td>train</td>\n",
       "      <td>4</td>\n",
       "    </tr>\n",
       "    <tr>\n",
       "      <th>3</th>\n",
       "      <td>LIDC-IDRI-0078</td>\n",
       "      <td>64.0</td>\n",
       "      <td>F</td>\n",
       "      <td>white-ns</td>\n",
       "      <td>4.0</td>\n",
       "      <td>True</td>\n",
       "      <td>3</td>\n",
       "      <td>27.333200</td>\n",
       "      <td>5.0</td>\n",
       "      <td>1</td>\n",
       "      <td>4</td>\n",
       "      <td>4.0</td>\n",
       "      <td>3.0</td>\n",
       "      <td>5.0</td>\n",
       "      <td>1</td>\n",
       "      <td>0</td>\n",
       "      <td>train</td>\n",
       "      <td>4</td>\n",
       "    </tr>\n",
       "    <tr>\n",
       "      <th>6</th>\n",
       "      <td>LIDC-IDRI-0069</td>\n",
       "      <td>51.0</td>\n",
       "      <td>M</td>\n",
       "      <td>white-ns</td>\n",
       "      <td>4.0</td>\n",
       "      <td>True</td>\n",
       "      <td>2</td>\n",
       "      <td>24.323491</td>\n",
       "      <td>5.0</td>\n",
       "      <td>1</td>\n",
       "      <td>6</td>\n",
       "      <td>4.0</td>\n",
       "      <td>3.0</td>\n",
       "      <td>5.0</td>\n",
       "      <td>1</td>\n",
       "      <td>0</td>\n",
       "      <td>train</td>\n",
       "      <td>4</td>\n",
       "    </tr>\n",
       "    <tr>\n",
       "      <th>15</th>\n",
       "      <td>LIDC-IDRI-0132</td>\n",
       "      <td>59.0</td>\n",
       "      <td>M</td>\n",
       "      <td>white-ns</td>\n",
       "      <td>4.0</td>\n",
       "      <td>False</td>\n",
       "      <td>3</td>\n",
       "      <td>26.329831</td>\n",
       "      <td>5.0</td>\n",
       "      <td>1</td>\n",
       "      <td>6</td>\n",
       "      <td>4.0</td>\n",
       "      <td>3.5</td>\n",
       "      <td>5.0</td>\n",
       "      <td>1</td>\n",
       "      <td>0</td>\n",
       "      <td>train</td>\n",
       "      <td>4</td>\n",
       "    </tr>\n",
       "  </tbody>\n",
       "</table>\n",
       "</div>"
      ],
      "text/plain": [
       "         PatientID   Age Sex EthnicGroup  PregnancyStatus  Contrast  NoduleID  \\\n",
       "0   LIDC-IDRI-0078  64.0   F    white-ns              4.0      True         0   \n",
       "1   LIDC-IDRI-0078  64.0   F    white-ns              4.0      True         1   \n",
       "3   LIDC-IDRI-0078  64.0   F    white-ns              4.0      True         3   \n",
       "6   LIDC-IDRI-0069  51.0   M    white-ns              4.0      True         2   \n",
       "15  LIDC-IDRI-0132  59.0   M    white-ns              4.0     False         3   \n",
       "\n",
       "     diameter  subtlety  internalStructure  calcification  sphericity  margin  \\\n",
       "0   24.150378       4.5                  1              6         4.0     3.5   \n",
       "1   20.865896       5.0                  1              6         4.0     2.5   \n",
       "3   27.333200       5.0                  1              4         4.0     3.0   \n",
       "6   24.323491       5.0                  1              6         4.0     3.0   \n",
       "15  26.329831       5.0                  1              6         4.0     3.5   \n",
       "\n",
       "    texture  malignancy  diagnosis_type  split  num_radiologists  \n",
       "0       5.0           1               0  train                 4  \n",
       "1       4.5           1               0  train                 4  \n",
       "3       5.0           1               0  train                 4  \n",
       "6       5.0           1               0  train                 4  \n",
       "15      5.0           1               0  train                 4  "
      ]
     },
     "execution_count": 12,
     "metadata": {},
     "output_type": "execute_result"
    }
   ],
   "source": [
    "table_data.head()"
   ]
  },
  {
   "cell_type": "code",
   "execution_count": 15,
   "id": "114c45aa",
   "metadata": {},
   "outputs": [
    {
     "name": "stdout",
     "output_type": "stream",
     "text": [
      "255\n",
      "283\n",
      "Доля доброкачествнных узлов - 0.4739776951672863\n",
      "Доля злокачественных узлов - 0.5260223048327137\n"
     ]
    }
   ],
   "source": [
    "mal_0=len(table_data[(table_data['malignancy'] ==0)])\n",
    "mal_1=len(table_data[(table_data['malignancy'] ==1)])\n",
    "print(mal_0)\n",
    "print(mal_1)\n",
    "print(f'Доля доброкачествнных узлов - {mal_0/(mal_0+mal_1)}')\n",
    "print(f'Доля злокачественных узлов - {mal_1/(mal_0+mal_1)}')"
   ]
  },
  {
   "cell_type": "code",
   "execution_count": 42,
   "id": "5dca49d4",
   "metadata": {},
   "outputs": [
    {
     "data": {
      "text/plain": [
       "PatientID              0\n",
       "Age                  346\n",
       "Sex                  321\n",
       "EthnicGroup          513\n",
       "PregnancyStatus      500\n",
       "Contrast               0\n",
       "NoduleID               0\n",
       "diameter               0\n",
       "subtlety               0\n",
       "internalStructure      0\n",
       "calcification          0\n",
       "sphericity             0\n",
       "margin                 0\n",
       "texture                0\n",
       "malignancy             0\n",
       "diagnosis_type         0\n",
       "split                  0\n",
       "num_radiologists       0\n",
       "dtype: int64"
      ]
     },
     "execution_count": 42,
     "metadata": {},
     "output_type": "execute_result"
    }
   ],
   "source": [
    "table_data.isna().sum()"
   ]
  },
  {
   "cell_type": "code",
   "execution_count": 43,
   "id": "97a60a2f",
   "metadata": {},
   "outputs": [],
   "source": [
    "table_data.drop(columns=['PatientID', 'NoduleID', 'diagnosis_type', 'num_radiologists', 'EthnicGroup',\n",
    "                         'PregnancyStatus', 'Age', 'Sex'], inplace=True)"
   ]
  },
  {
   "cell_type": "code",
   "execution_count": 45,
   "id": "14e3888c",
   "metadata": {},
   "outputs": [],
   "source": [
    "table_data = pd.get_dummies(table_data, columns=['Contrast', 'internalStructure', 'calcification'], drop_first=True)"
   ]
  },
  {
   "cell_type": "code",
   "execution_count": 46,
   "id": "31a9743b",
   "metadata": {},
   "outputs": [
    {
     "data": {
      "text/html": [
       "<div>\n",
       "<style scoped>\n",
       "    .dataframe tbody tr th:only-of-type {\n",
       "        vertical-align: middle;\n",
       "    }\n",
       "\n",
       "    .dataframe tbody tr th {\n",
       "        vertical-align: top;\n",
       "    }\n",
       "\n",
       "    .dataframe thead th {\n",
       "        text-align: right;\n",
       "    }\n",
       "</style>\n",
       "<table border=\"1\" class=\"dataframe\">\n",
       "  <thead>\n",
       "    <tr style=\"text-align: right;\">\n",
       "      <th></th>\n",
       "      <th>diameter</th>\n",
       "      <th>subtlety</th>\n",
       "      <th>sphericity</th>\n",
       "      <th>margin</th>\n",
       "      <th>texture</th>\n",
       "      <th>malignancy</th>\n",
       "      <th>split</th>\n",
       "      <th>Contrast_True</th>\n",
       "      <th>calcification_3</th>\n",
       "      <th>calcification_4</th>\n",
       "      <th>calcification_5</th>\n",
       "      <th>calcification_6</th>\n",
       "    </tr>\n",
       "  </thead>\n",
       "  <tbody>\n",
       "    <tr>\n",
       "      <th>0</th>\n",
       "      <td>24.150378</td>\n",
       "      <td>4.5</td>\n",
       "      <td>4.0</td>\n",
       "      <td>3.5</td>\n",
       "      <td>5.0</td>\n",
       "      <td>1</td>\n",
       "      <td>train</td>\n",
       "      <td>1</td>\n",
       "      <td>0</td>\n",
       "      <td>0</td>\n",
       "      <td>0</td>\n",
       "      <td>1</td>\n",
       "    </tr>\n",
       "    <tr>\n",
       "      <th>1</th>\n",
       "      <td>20.865896</td>\n",
       "      <td>5.0</td>\n",
       "      <td>4.0</td>\n",
       "      <td>2.5</td>\n",
       "      <td>4.5</td>\n",
       "      <td>1</td>\n",
       "      <td>train</td>\n",
       "      <td>1</td>\n",
       "      <td>0</td>\n",
       "      <td>0</td>\n",
       "      <td>0</td>\n",
       "      <td>1</td>\n",
       "    </tr>\n",
       "    <tr>\n",
       "      <th>3</th>\n",
       "      <td>27.333200</td>\n",
       "      <td>5.0</td>\n",
       "      <td>4.0</td>\n",
       "      <td>3.0</td>\n",
       "      <td>5.0</td>\n",
       "      <td>1</td>\n",
       "      <td>train</td>\n",
       "      <td>1</td>\n",
       "      <td>0</td>\n",
       "      <td>1</td>\n",
       "      <td>0</td>\n",
       "      <td>0</td>\n",
       "    </tr>\n",
       "    <tr>\n",
       "      <th>6</th>\n",
       "      <td>24.323491</td>\n",
       "      <td>5.0</td>\n",
       "      <td>4.0</td>\n",
       "      <td>3.0</td>\n",
       "      <td>5.0</td>\n",
       "      <td>1</td>\n",
       "      <td>train</td>\n",
       "      <td>1</td>\n",
       "      <td>0</td>\n",
       "      <td>0</td>\n",
       "      <td>0</td>\n",
       "      <td>1</td>\n",
       "    </tr>\n",
       "    <tr>\n",
       "      <th>15</th>\n",
       "      <td>26.329831</td>\n",
       "      <td>5.0</td>\n",
       "      <td>4.0</td>\n",
       "      <td>3.5</td>\n",
       "      <td>5.0</td>\n",
       "      <td>1</td>\n",
       "      <td>train</td>\n",
       "      <td>0</td>\n",
       "      <td>0</td>\n",
       "      <td>0</td>\n",
       "      <td>0</td>\n",
       "      <td>1</td>\n",
       "    </tr>\n",
       "  </tbody>\n",
       "</table>\n",
       "</div>"
      ],
      "text/plain": [
       "     diameter  subtlety  sphericity  margin  texture  malignancy  split  \\\n",
       "0   24.150378       4.5         4.0     3.5      5.0           1  train   \n",
       "1   20.865896       5.0         4.0     2.5      4.5           1  train   \n",
       "3   27.333200       5.0         4.0     3.0      5.0           1  train   \n",
       "6   24.323491       5.0         4.0     3.0      5.0           1  train   \n",
       "15  26.329831       5.0         4.0     3.5      5.0           1  train   \n",
       "\n",
       "    Contrast_True  calcification_3  calcification_4  calcification_5  \\\n",
       "0               1                0                0                0   \n",
       "1               1                0                0                0   \n",
       "3               1                0                1                0   \n",
       "6               1                0                0                0   \n",
       "15              0                0                0                0   \n",
       "\n",
       "    calcification_6  \n",
       "0                 1  \n",
       "1                 1  \n",
       "3                 0  \n",
       "6                 1  \n",
       "15                1  "
      ]
     },
     "execution_count": 46,
     "metadata": {},
     "output_type": "execute_result"
    }
   ],
   "source": [
    "table_data.head()"
   ]
  },
  {
   "cell_type": "code",
   "execution_count": 47,
   "id": "f4b66ca2",
   "metadata": {},
   "outputs": [
    {
     "name": "stdout",
     "output_type": "stream",
     "text": [
      "393\n",
      "70\n",
      "75\n"
     ]
    }
   ],
   "source": [
    "train = table_data[(table_data['split']=='train')]\n",
    "val = table_data[(table_data['split']=='val')]\n",
    "test = table_data[(table_data['split']=='test')]\n",
    "print(len(train))\n",
    "print(len(val))\n",
    "print(len(test))"
   ]
  },
  {
   "cell_type": "code",
   "execution_count": 48,
   "id": "a3a33d7f",
   "metadata": {},
   "outputs": [
    {
     "name": "stdout",
     "output_type": "stream",
     "text": [
      "393 393\n",
      "70 70\n",
      "75 75\n"
     ]
    }
   ],
   "source": [
    "y_train=train['malignancy']\n",
    "X_train=train.drop(columns=['split', 'malignancy'])\n",
    "y_val=val['malignancy']\n",
    "X_val=val.drop(columns=['split', 'malignancy'])\n",
    "y_test=test['malignancy']\n",
    "X_test=test.drop(columns=['split', 'malignancy'])\n",
    "print(len(y_train), len(X_train))\n",
    "print(len(y_val), len(X_val))\n",
    "print(len(y_test), len(X_test))"
   ]
  },
  {
   "cell_type": "code",
   "execution_count": 50,
   "id": "dae14390",
   "metadata": {},
   "outputs": [
    {
     "name": "stderr",
     "output_type": "stream",
     "text": [
      "[I 2025-04-15 20:16:14,034] A new study created in memory with name: no-name-effed197-6568-45d1-aa91-dc6b95438b0f\n",
      "[I 2025-04-15 20:16:14,610] Trial 0 finished with value: 0.946546052631579 and parameters: {'n_estimators': 295, 'max_depth': 10, 'min_samples_split': 17, 'min_samples_leaf': 15, 'max_features': 'sqrt'}. Best is trial 0 with value: 0.946546052631579.\n",
      "[I 2025-04-15 20:16:14,770] Trial 1 finished with value: 0.946546052631579 and parameters: {'n_estimators': 74, 'max_depth': 4, 'min_samples_split': 9, 'min_samples_leaf': 2, 'max_features': 'log2'}. Best is trial 0 with value: 0.946546052631579.\n",
      "[I 2025-04-15 20:16:15,135] Trial 2 finished with value: 0.9383223684210527 and parameters: {'n_estimators': 168, 'max_depth': 4, 'min_samples_split': 14, 'min_samples_leaf': 3, 'max_features': 'sqrt'}. Best is trial 0 with value: 0.946546052631579.\n",
      "[I 2025-04-15 20:16:15,547] Trial 3 finished with value: 0.9440789473684211 and parameters: {'n_estimators': 215, 'max_depth': 18, 'min_samples_split': 6, 'min_samples_leaf': 9, 'max_features': 'log2'}. Best is trial 0 with value: 0.946546052631579.\n",
      "[I 2025-04-15 20:16:16,007] Trial 4 finished with value: 0.9473684210526315 and parameters: {'n_estimators': 258, 'max_depth': 10, 'min_samples_split': 17, 'min_samples_leaf': 12, 'max_features': 'log2'}. Best is trial 4 with value: 0.9473684210526315.\n",
      "[I 2025-04-15 20:16:16,388] Trial 5 finished with value: 0.919407894736842 and parameters: {'n_estimators': 202, 'max_depth': 25, 'min_samples_split': 17, 'min_samples_leaf': 5, 'max_features': None}. Best is trial 4 with value: 0.9473684210526315.\n",
      "[I 2025-04-15 20:16:16,656] Trial 6 finished with value: 0.9083059210526315 and parameters: {'n_estimators': 142, 'max_depth': 4, 'min_samples_split': 3, 'min_samples_leaf': 13, 'max_features': None}. Best is trial 4 with value: 0.9473684210526315.\n",
      "[I 2025-04-15 20:16:16,830] Trial 7 finished with value: 0.944078947368421 and parameters: {'n_estimators': 78, 'max_depth': 18, 'min_samples_split': 8, 'min_samples_leaf': 9, 'max_features': 'sqrt'}. Best is trial 4 with value: 0.9473684210526315.\n",
      "[I 2025-04-15 20:16:17,022] Trial 8 finished with value: 0.939967105263158 and parameters: {'n_estimators': 92, 'max_depth': 3, 'min_samples_split': 5, 'min_samples_leaf': 13, 'max_features': 'sqrt'}. Best is trial 4 with value: 0.9473684210526315.\n",
      "[I 2025-04-15 20:16:17,340] Trial 9 finished with value: 0.9449013157894737 and parameters: {'n_estimators': 172, 'max_depth': 15, 'min_samples_split': 4, 'min_samples_leaf': 7, 'max_features': 'log2'}. Best is trial 4 with value: 0.9473684210526315.\n",
      "[I 2025-04-15 20:16:17,864] Trial 10 finished with value: 0.9473684210526316 and parameters: {'n_estimators': 293, 'max_depth': 8, 'min_samples_split': 20, 'min_samples_leaf': 20, 'max_features': 'log2'}. Best is trial 10 with value: 0.9473684210526316.\n",
      "[I 2025-04-15 20:16:18,374] Trial 11 finished with value: 0.9481907894736842 and parameters: {'n_estimators': 286, 'max_depth': 8, 'min_samples_split': 20, 'min_samples_leaf': 20, 'max_features': 'log2'}. Best is trial 11 with value: 0.9481907894736842.\n",
      "[I 2025-04-15 20:16:18,884] Trial 12 finished with value: 0.9481907894736842 and parameters: {'n_estimators': 285, 'max_depth': 7, 'min_samples_split': 19, 'min_samples_leaf': 20, 'max_features': 'log2'}. Best is trial 11 with value: 0.9481907894736842.\n",
      "[I 2025-04-15 20:16:19,330] Trial 13 finished with value: 0.9391447368421053 and parameters: {'n_estimators': 248, 'max_depth': 2, 'min_samples_split': 20, 'min_samples_leaf': 20, 'max_features': 'log2'}. Best is trial 11 with value: 0.9481907894736842.\n",
      "[I 2025-04-15 20:16:19,790] Trial 14 finished with value: 0.946546052631579 and parameters: {'n_estimators': 253, 'max_depth': 6, 'min_samples_split': 14, 'min_samples_leaf': 17, 'max_features': 'log2'}. Best is trial 11 with value: 0.9481907894736842.\n",
      "[I 2025-04-15 20:16:20,202] Trial 15 finished with value: 0.9473684210526316 and parameters: {'n_estimators': 219, 'max_depth': 6, 'min_samples_split': 13, 'min_samples_leaf': 17, 'max_features': 'log2'}. Best is trial 11 with value: 0.9481907894736842.\n",
      "[I 2025-04-15 20:16:20,713] Trial 16 finished with value: 0.907483552631579 and parameters: {'n_estimators': 278, 'max_depth': 12, 'min_samples_split': 19, 'min_samples_leaf': 17, 'max_features': None}. Best is trial 11 with value: 0.9481907894736842.\n",
      "[I 2025-04-15 20:16:21,140] Trial 17 finished with value: 0.9473684210526316 and parameters: {'n_estimators': 231, 'max_depth': 29, 'min_samples_split': 12, 'min_samples_leaf': 20, 'max_features': 'log2'}. Best is trial 11 with value: 0.9481907894736842.\n",
      "[I 2025-04-15 20:16:21,394] Trial 18 finished with value: 0.9481907894736842 and parameters: {'n_estimators': 124, 'max_depth': 7, 'min_samples_split': 16, 'min_samples_leaf': 15, 'max_features': 'log2'}. Best is trial 11 with value: 0.9481907894736842.\n",
      "[I 2025-04-15 20:16:21,775] Trial 19 finished with value: 0.900904605263158 and parameters: {'n_estimators': 197, 'max_depth': 2, 'min_samples_split': 10, 'min_samples_leaf': 18, 'max_features': None}. Best is trial 11 with value: 0.9481907894736842.\n",
      "[I 2025-04-15 20:16:22,314] Trial 20 finished with value: 0.946546052631579 and parameters: {'n_estimators': 273, 'max_depth': 5, 'min_samples_split': 18, 'min_samples_leaf': 15, 'max_features': 'log2'}. Best is trial 11 with value: 0.9481907894736842.\n",
      "[I 2025-04-15 20:16:22,551] Trial 21 finished with value: 0.946546052631579 and parameters: {'n_estimators': 106, 'max_depth': 8, 'min_samples_split': 15, 'min_samples_leaf': 15, 'max_features': 'log2'}. Best is trial 11 with value: 0.9481907894736842.\n",
      "[I 2025-04-15 20:16:22,822] Trial 22 finished with value: 0.9473684210526316 and parameters: {'n_estimators': 136, 'max_depth': 7, 'min_samples_split': 16, 'min_samples_leaf': 18, 'max_features': 'log2'}. Best is trial 11 with value: 0.9481907894736842.\n",
      "[I 2025-04-15 20:16:23,078] Trial 23 finished with value: 0.9506578947368421 and parameters: {'n_estimators': 126, 'max_depth': 11, 'min_samples_split': 19, 'min_samples_leaf': 19, 'max_features': 'log2'}. Best is trial 23 with value: 0.9506578947368421.\n",
      "[I 2025-04-15 20:16:23,380] Trial 24 finished with value: 0.9481907894736842 and parameters: {'n_estimators': 157, 'max_depth': 12, 'min_samples_split': 19, 'min_samples_leaf': 19, 'max_features': 'log2'}. Best is trial 23 with value: 0.9506578947368421.\n",
      "[I 2025-04-15 20:16:23,619] Trial 25 finished with value: 0.9473684210526316 and parameters: {'n_estimators': 115, 'max_depth': 10, 'min_samples_split': 20, 'min_samples_leaf': 18, 'max_features': 'log2'}. Best is trial 23 with value: 0.9506578947368421.\n",
      "[I 2025-04-15 20:16:24,015] Trial 26 finished with value: 0.946546052631579 and parameters: {'n_estimators': 190, 'max_depth': 15, 'min_samples_split': 18, 'min_samples_leaf': 20, 'max_features': 'log2'}. Best is trial 23 with value: 0.9506578947368421.\n",
      "[I 2025-04-15 20:16:24,190] Trial 27 finished with value: 0.9066611842105262 and parameters: {'n_estimators': 60, 'max_depth': 3, 'min_samples_split': 18, 'min_samples_leaf': 16, 'max_features': None}. Best is trial 23 with value: 0.9506578947368421.\n",
      "[I 2025-04-15 20:16:24,681] Trial 28 finished with value: 0.9481907894736842 and parameters: {'n_estimators': 275, 'max_depth': 5, 'min_samples_split': 15, 'min_samples_leaf': 19, 'max_features': 'sqrt'}. Best is trial 23 with value: 0.9506578947368421.\n",
      "[I 2025-04-15 20:16:25,222] Trial 29 finished with value: 0.9481907894736842 and parameters: {'n_estimators': 300, 'max_depth': 9, 'min_samples_split': 19, 'min_samples_leaf': 13, 'max_features': 'log2'}. Best is trial 23 with value: 0.9506578947368421.\n",
      "[I 2025-04-15 20:16:25,667] Trial 30 finished with value: 0.9473684210526316 and parameters: {'n_estimators': 239, 'max_depth': 12, 'min_samples_split': 12, 'min_samples_leaf': 19, 'max_features': 'sqrt'}. Best is trial 23 with value: 0.9506578947368421.\n",
      "[I 2025-04-15 20:16:25,938] Trial 31 finished with value: 0.9481907894736841 and parameters: {'n_estimators': 132, 'max_depth': 7, 'min_samples_split': 16, 'min_samples_leaf': 15, 'max_features': 'log2'}. Best is trial 23 with value: 0.9506578947368421.\n"
     ]
    },
    {
     "name": "stderr",
     "output_type": "stream",
     "text": [
      "[I 2025-04-15 20:16:26,193] Trial 32 finished with value: 0.9481907894736842 and parameters: {'n_estimators': 116, 'max_depth': 6, 'min_samples_split': 16, 'min_samples_leaf': 17, 'max_features': 'log2'}. Best is trial 23 with value: 0.9506578947368421.\n",
      "[I 2025-04-15 20:16:26,481] Trial 33 finished with value: 0.9481907894736843 and parameters: {'n_estimators': 146, 'max_depth': 5, 'min_samples_split': 18, 'min_samples_leaf': 16, 'max_features': 'log2'}. Best is trial 23 with value: 0.9506578947368421.\n",
      "[I 2025-04-15 20:16:26,767] Trial 34 finished with value: 0.9473684210526316 and parameters: {'n_estimators': 148, 'max_depth': 5, 'min_samples_split': 20, 'min_samples_leaf': 19, 'max_features': 'log2'}. Best is trial 23 with value: 0.9506578947368421.\n",
      "[I 2025-04-15 20:16:27,130] Trial 35 finished with value: 0.9366776315789473 and parameters: {'n_estimators': 183, 'max_depth': 3, 'min_samples_split': 18, 'min_samples_leaf': 11, 'max_features': 'log2'}. Best is trial 23 with value: 0.9506578947368421.\n",
      "[I 2025-04-15 20:16:27,464] Trial 36 finished with value: 0.9473684210526316 and parameters: {'n_estimators': 159, 'max_depth': 4, 'min_samples_split': 17, 'min_samples_leaf': 16, 'max_features': 'log2'}. Best is trial 23 with value: 0.9506578947368421.\n",
      "[I 2025-04-15 20:16:27,988] Trial 37 finished with value: 0.9490131578947368 and parameters: {'n_estimators': 286, 'max_depth': 9, 'min_samples_split': 19, 'min_samples_leaf': 2, 'max_features': 'log2'}. Best is trial 23 with value: 0.9506578947368421.\n",
      "[I 2025-04-15 20:16:28,210] Trial 38 finished with value: 0.9523026315789473 and parameters: {'n_estimators': 99, 'max_depth': 21, 'min_samples_split': 8, 'min_samples_leaf': 1, 'max_features': 'sqrt'}. Best is trial 38 with value: 0.9523026315789473.\n",
      "[I 2025-04-15 20:16:28,430] Trial 39 finished with value: 0.9523026315789473 and parameters: {'n_estimators': 92, 'max_depth': 21, 'min_samples_split': 8, 'min_samples_leaf': 1, 'max_features': 'sqrt'}. Best is trial 38 with value: 0.9523026315789473.\n",
      "[I 2025-04-15 20:16:28,699] Trial 40 finished with value: 0.9523026315789473 and parameters: {'n_estimators': 92, 'max_depth': 23, 'min_samples_split': 8, 'min_samples_leaf': 1, 'max_features': 'sqrt'}. Best is trial 38 with value: 0.9523026315789473.\n",
      "[I 2025-04-15 20:16:28,921] Trial 41 finished with value: 0.9498355263157894 and parameters: {'n_estimators': 93, 'max_depth': 22, 'min_samples_split': 7, 'min_samples_leaf': 1, 'max_features': 'sqrt'}. Best is trial 38 with value: 0.9523026315789473.\n",
      "[I 2025-04-15 20:16:29,128] Trial 42 finished with value: 0.9498355263157895 and parameters: {'n_estimators': 86, 'max_depth': 23, 'min_samples_split': 7, 'min_samples_leaf': 1, 'max_features': 'sqrt'}. Best is trial 38 with value: 0.9523026315789473.\n",
      "[I 2025-04-15 20:16:29,285] Trial 43 finished with value: 0.9473684210526316 and parameters: {'n_estimators': 55, 'max_depth': 22, 'min_samples_split': 9, 'min_samples_leaf': 4, 'max_features': 'sqrt'}. Best is trial 38 with value: 0.9523026315789473.\n",
      "[I 2025-04-15 20:16:29,509] Trial 44 finished with value: 0.9461348684210527 and parameters: {'n_estimators': 90, 'max_depth': 32, 'min_samples_split': 6, 'min_samples_leaf': 1, 'max_features': 'sqrt'}. Best is trial 38 with value: 0.9523026315789473.\n",
      "[I 2025-04-15 20:16:29,730] Trial 45 finished with value: 0.9473684210526316 and parameters: {'n_estimators': 70, 'max_depth': 19, 'min_samples_split': 8, 'min_samples_leaf': 6, 'max_features': 'sqrt'}. Best is trial 38 with value: 0.9523026315789473.\n",
      "[I 2025-04-15 20:16:29,920] Trial 46 finished with value: 0.9523026315789473 and parameters: {'n_estimators': 80, 'max_depth': 26, 'min_samples_split': 10, 'min_samples_leaf': 3, 'max_features': 'sqrt'}. Best is trial 38 with value: 0.9523026315789473.\n",
      "[I 2025-04-15 20:16:30,158] Trial 47 finished with value: 0.9498355263157895 and parameters: {'n_estimators': 107, 'max_depth': 16, 'min_samples_split': 10, 'min_samples_leaf': 3, 'max_features': 'sqrt'}. Best is trial 38 with value: 0.9523026315789473.\n",
      "[I 2025-04-15 20:16:30,333] Trial 48 finished with value: 0.9457236842105263 and parameters: {'n_estimators': 66, 'max_depth': 27, 'min_samples_split': 2, 'min_samples_leaf': 3, 'max_features': 'sqrt'}. Best is trial 38 with value: 0.9523026315789473.\n",
      "[I 2025-04-15 20:16:30,539] Trial 49 finished with value: 0.9465460526315789 and parameters: {'n_estimators': 81, 'max_depth': 17, 'min_samples_split': 9, 'min_samples_leaf': 8, 'max_features': 'sqrt'}. Best is trial 38 with value: 0.9523026315789473.\n",
      "[I 2025-04-15 20:16:30,729] Trial 50 finished with value: 0.9473684210526316 and parameters: {'n_estimators': 50, 'max_depth': 20, 'min_samples_split': 5, 'min_samples_leaf': 5, 'max_features': 'sqrt'}. Best is trial 38 with value: 0.9523026315789473.\n",
      "[I 2025-04-15 20:16:30,934] Trial 51 finished with value: 0.9457236842105263 and parameters: {'n_estimators': 82, 'max_depth': 26, 'min_samples_split': 7, 'min_samples_leaf': 2, 'max_features': 'sqrt'}. Best is trial 38 with value: 0.9523026315789473.\n",
      "[I 2025-04-15 20:16:31,156] Trial 52 finished with value: 0.9490131578947368 and parameters: {'n_estimators': 93, 'max_depth': 23, 'min_samples_split': 8, 'min_samples_leaf': 2, 'max_features': 'sqrt'}. Best is trial 38 with value: 0.9523026315789473.\n",
      "[I 2025-04-15 20:16:31,393] Trial 53 finished with value: 0.9457236842105262 and parameters: {'n_estimators': 108, 'max_depth': 14, 'min_samples_split': 10, 'min_samples_leaf': 1, 'max_features': 'sqrt'}. Best is trial 38 with value: 0.9523026315789473.\n",
      "[I 2025-04-15 20:16:31,616] Trial 54 finished with value: 0.9514802631578947 and parameters: {'n_estimators': 99, 'max_depth': 32, 'min_samples_split': 11, 'min_samples_leaf': 4, 'max_features': 'sqrt'}. Best is trial 38 with value: 0.9523026315789473.\n",
      "[I 2025-04-15 20:16:31,872] Trial 55 finished with value: 0.9514802631578947 and parameters: {'n_estimators': 98, 'max_depth': 28, 'min_samples_split': 11, 'min_samples_leaf': 4, 'max_features': 'sqrt'}. Best is trial 38 with value: 0.9523026315789473.\n",
      "[I 2025-04-15 20:16:32,123] Trial 56 finished with value: 0.9514802631578947 and parameters: {'n_estimators': 99, 'max_depth': 32, 'min_samples_split': 11, 'min_samples_leaf': 4, 'max_features': 'sqrt'}. Best is trial 38 with value: 0.9523026315789473.\n",
      "[I 2025-04-15 20:16:32,298] Trial 57 finished with value: 0.9539473684210527 and parameters: {'n_estimators': 69, 'max_depth': 29, 'min_samples_split': 11, 'min_samples_leaf': 4, 'max_features': 'sqrt'}. Best is trial 57 with value: 0.9539473684210527.\n",
      "[I 2025-04-15 20:16:32,537] Trial 58 finished with value: 0.950657894736842 and parameters: {'n_estimators': 74, 'max_depth': 20, 'min_samples_split': 11, 'min_samples_leaf': 5, 'max_features': 'sqrt'}. Best is trial 57 with value: 0.9539473684210527.\n",
      "[I 2025-04-15 20:16:32,727] Trial 59 finished with value: 0.9473684210526316 and parameters: {'n_estimators': 67, 'max_depth': 25, 'min_samples_split': 12, 'min_samples_leaf': 6, 'max_features': 'sqrt'}. Best is trial 57 with value: 0.9539473684210527.\n",
      "[I 2025-04-15 20:16:32,978] Trial 60 finished with value: 0.946546052631579 and parameters: {'n_estimators': 117, 'max_depth': 30, 'min_samples_split': 13, 'min_samples_leaf': 2, 'max_features': 'sqrt'}. Best is trial 57 with value: 0.9539473684210527.\n",
      "[I 2025-04-15 20:16:33,200] Trial 61 finished with value: 0.9523026315789473 and parameters: {'n_estimators': 100, 'max_depth': 28, 'min_samples_split': 9, 'min_samples_leaf': 4, 'max_features': 'sqrt'}. Best is trial 57 with value: 0.9539473684210527.\n",
      "[I 2025-04-15 20:16:33,406] Trial 62 finished with value: 0.953125 and parameters: {'n_estimators': 78, 'max_depth': 25, 'min_samples_split': 9, 'min_samples_leaf': 3, 'max_features': 'sqrt'}. Best is trial 57 with value: 0.9539473684210527.\n",
      "[I 2025-04-15 20:16:33,598] Trial 63 finished with value: 0.953125 and parameters: {'n_estimators': 77, 'max_depth': 25, 'min_samples_split': 9, 'min_samples_leaf': 3, 'max_features': 'sqrt'}. Best is trial 57 with value: 0.9539473684210527.\n",
      "[I 2025-04-15 20:16:33,772] Trial 64 finished with value: 0.9247532894736842 and parameters: {'n_estimators': 61, 'max_depth': 24, 'min_samples_split': 8, 'min_samples_leaf': 3, 'max_features': None}. Best is trial 57 with value: 0.9539473684210527.\n"
     ]
    },
    {
     "name": "stderr",
     "output_type": "stream",
     "text": [
      "[I 2025-04-15 20:16:33,963] Trial 65 finished with value: 0.946546052631579 and parameters: {'n_estimators': 75, 'max_depth': 18, 'min_samples_split': 6, 'min_samples_leaf': 3, 'max_features': 'sqrt'}. Best is trial 57 with value: 0.9539473684210527.\n",
      "[I 2025-04-15 20:16:34,169] Trial 66 finished with value: 0.9457236842105263 and parameters: {'n_estimators': 80, 'max_depth': 21, 'min_samples_split': 10, 'min_samples_leaf': 1, 'max_features': 'sqrt'}. Best is trial 57 with value: 0.9539473684210527.\n",
      "[I 2025-04-15 20:16:34,344] Trial 67 finished with value: 0.953125 and parameters: {'n_estimators': 60, 'max_depth': 14, 'min_samples_split': 9, 'min_samples_leaf': 2, 'max_features': 'sqrt'}. Best is trial 57 with value: 0.9539473684210527.\n",
      "[I 2025-04-15 20:16:34,505] Trial 68 finished with value: 0.9523026315789473 and parameters: {'n_estimators': 56, 'max_depth': 14, 'min_samples_split': 9, 'min_samples_leaf': 2, 'max_features': 'sqrt'}. Best is trial 57 with value: 0.9539473684210527.\n",
      "[I 2025-04-15 20:16:34,663] Trial 69 finished with value: 0.9407894736842106 and parameters: {'n_estimators': 50, 'max_depth': 16, 'min_samples_split': 7, 'min_samples_leaf': 2, 'max_features': 'sqrt'}. Best is trial 57 with value: 0.9539473684210527.\n",
      "[I 2025-04-15 20:16:34,866] Trial 70 finished with value: 0.9152960526315789 and parameters: {'n_estimators': 64, 'max_depth': 19, 'min_samples_split': 5, 'min_samples_leaf': 6, 'max_features': None}. Best is trial 57 with value: 0.9539473684210527.\n",
      "[I 2025-04-15 20:16:35,073] Trial 71 finished with value: 0.9457236842105263 and parameters: {'n_estimators': 86, 'max_depth': 29, 'min_samples_split': 8, 'min_samples_leaf': 3, 'max_features': 'sqrt'}. Best is trial 57 with value: 0.9539473684210527.\n",
      "[I 2025-04-15 20:16:35,265] Trial 72 finished with value: 0.9449013157894736 and parameters: {'n_estimators': 73, 'max_depth': 25, 'min_samples_split': 10, 'min_samples_leaf': 1, 'max_features': 'sqrt'}. Best is trial 57 with value: 0.9539473684210527.\n",
      "[I 2025-04-15 20:16:35,472] Trial 73 finished with value: 0.953125 and parameters: {'n_estimators': 78, 'max_depth': 21, 'min_samples_split': 9, 'min_samples_leaf': 3, 'max_features': 'sqrt'}. Best is trial 57 with value: 0.9539473684210527.\n",
      "[I 2025-04-15 20:16:35,678] Trial 74 finished with value: 0.9514802631578947 and parameters: {'n_estimators': 89, 'max_depth': 21, 'min_samples_split': 9, 'min_samples_leaf': 1, 'max_features': 'sqrt'}. Best is trial 57 with value: 0.9539473684210527.\n",
      "[I 2025-04-15 20:16:35,868] Trial 75 finished with value: 0.9424342105263158 and parameters: {'n_estimators': 71, 'max_depth': 17, 'min_samples_split': 6, 'min_samples_leaf': 2, 'max_features': 'sqrt'}. Best is trial 57 with value: 0.9539473684210527.\n",
      "[I 2025-04-15 20:16:36,044] Trial 76 finished with value: 0.9481907894736842 and parameters: {'n_estimators': 59, 'max_depth': 13, 'min_samples_split': 8, 'min_samples_leaf': 5, 'max_features': 'sqrt'}. Best is trial 57 with value: 0.9539473684210527.\n",
      "[I 2025-04-15 20:16:36,315] Trial 77 finished with value: 0.946546052631579 and parameters: {'n_estimators': 124, 'max_depth': 24, 'min_samples_split': 7, 'min_samples_leaf': 2, 'max_features': 'sqrt'}. Best is trial 57 with value: 0.9539473684210527.\n",
      "[I 2025-04-15 20:16:36,567] Trial 78 finished with value: 0.953125 and parameters: {'n_estimators': 109, 'max_depth': 22, 'min_samples_split': 9, 'min_samples_leaf': 3, 'max_features': 'sqrt'}. Best is trial 57 with value: 0.9539473684210527.\n",
      "[I 2025-04-15 20:16:36,805] Trial 79 finished with value: 0.921875 and parameters: {'n_estimators': 110, 'max_depth': 18, 'min_samples_split': 9, 'min_samples_leaf': 5, 'max_features': None}. Best is trial 57 with value: 0.9539473684210527.\n",
      "[I 2025-04-15 20:16:36,980] Trial 80 finished with value: 0.9449013157894737 and parameters: {'n_estimators': 66, 'max_depth': 20, 'min_samples_split': 12, 'min_samples_leaf': 9, 'max_features': 'sqrt'}. Best is trial 57 with value: 0.9539473684210527.\n",
      "[I 2025-04-15 20:16:37,187] Trial 81 finished with value: 0.953125 and parameters: {'n_estimators': 85, 'max_depth': 22, 'min_samples_split': 9, 'min_samples_leaf': 3, 'max_features': 'sqrt'}. Best is trial 57 with value: 0.9539473684210527.\n",
      "[I 2025-04-15 20:16:37,392] Trial 82 finished with value: 0.953125 and parameters: {'n_estimators': 85, 'max_depth': 22, 'min_samples_split': 9, 'min_samples_leaf': 3, 'max_features': 'sqrt'}. Best is trial 57 with value: 0.9539473684210527.\n",
      "[I 2025-04-15 20:16:37,597] Trial 83 finished with value: 0.9498355263157895 and parameters: {'n_estimators': 84, 'max_depth': 30, 'min_samples_split': 10, 'min_samples_leaf': 4, 'max_features': 'sqrt'}. Best is trial 57 with value: 0.9539473684210527.\n",
      "[I 2025-04-15 20:16:37,787] Trial 84 finished with value: 0.9523026315789475 and parameters: {'n_estimators': 76, 'max_depth': 27, 'min_samples_split': 9, 'min_samples_leaf': 3, 'max_features': 'sqrt'}. Best is trial 57 with value: 0.9539473684210527.\n",
      "[I 2025-04-15 20:16:37,978] Trial 85 finished with value: 0.9523026315789475 and parameters: {'n_estimators': 76, 'max_depth': 26, 'min_samples_split': 9, 'min_samples_leaf': 3, 'max_features': 'sqrt'}. Best is trial 57 with value: 0.9539473684210527.\n",
      "[I 2025-04-15 20:16:38,122] Trial 86 finished with value: 0.9473684210526315 and parameters: {'n_estimators': 56, 'max_depth': 23, 'min_samples_split': 10, 'min_samples_leaf': 7, 'max_features': 'sqrt'}. Best is trial 57 with value: 0.9539473684210527.\n",
      "[I 2025-04-15 20:16:38,312] Trial 87 finished with value: 0.946546052631579 and parameters: {'n_estimators': 70, 'max_depth': 27, 'min_samples_split': 9, 'min_samples_leaf': 4, 'max_features': 'sqrt'}. Best is trial 57 with value: 0.9539473684210527.\n",
      "[I 2025-04-15 20:16:38,501] Trial 88 finished with value: 0.9523026315789473 and parameters: {'n_estimators': 77, 'max_depth': 30, 'min_samples_split': 13, 'min_samples_leaf': 3, 'max_features': 'sqrt'}. Best is trial 57 with value: 0.9539473684210527.\n",
      "[I 2025-04-15 20:16:38,708] Trial 89 finished with value: 0.950657894736842 and parameters: {'n_estimators': 85, 'max_depth': 11, 'min_samples_split': 11, 'min_samples_leaf': 5, 'max_features': 'sqrt'}. Best is trial 57 with value: 0.9539473684210527.\n",
      "[I 2025-04-15 20:16:38,883] Trial 90 finished with value: 0.9555921052631579 and parameters: {'n_estimators': 64, 'max_depth': 19, 'min_samples_split': 11, 'min_samples_leaf': 3, 'max_features': 'sqrt'}. Best is trial 90 with value: 0.9555921052631579.\n",
      "[I 2025-04-15 20:16:39,054] Trial 91 finished with value: 0.9539473684210527 and parameters: {'n_estimators': 62, 'max_depth': 19, 'min_samples_split': 11, 'min_samples_leaf': 3, 'max_features': 'sqrt'}. Best is trial 90 with value: 0.9555921052631579.\n",
      "[I 2025-04-15 20:16:39,245] Trial 92 finished with value: 0.9547697368421053 and parameters: {'n_estimators': 63, 'max_depth': 19, 'min_samples_split': 11, 'min_samples_leaf': 4, 'max_features': 'sqrt'}. Best is trial 90 with value: 0.9555921052631579.\n",
      "[I 2025-04-15 20:16:39,420] Trial 93 finished with value: 0.9547697368421053 and parameters: {'n_estimators': 62, 'max_depth': 16, 'min_samples_split': 13, 'min_samples_leaf': 4, 'max_features': 'sqrt'}. Best is trial 90 with value: 0.9555921052631579.\n",
      "[I 2025-04-15 20:16:39,578] Trial 94 finished with value: 0.9564144736842105 and parameters: {'n_estimators': 50, 'max_depth': 15, 'min_samples_split': 12, 'min_samples_leaf': 4, 'max_features': 'sqrt'}. Best is trial 94 with value: 0.9564144736842105.\n",
      "[I 2025-04-15 20:16:39,736] Trial 95 finished with value: 0.9564144736842106 and parameters: {'n_estimators': 51, 'max_depth': 16, 'min_samples_split': 13, 'min_samples_leaf': 4, 'max_features': 'sqrt'}. Best is trial 95 with value: 0.9564144736842106.\n",
      "[I 2025-04-15 20:16:39,909] Trial 96 finished with value: 0.9514802631578947 and parameters: {'n_estimators': 61, 'max_depth': 15, 'min_samples_split': 14, 'min_samples_leaf': 4, 'max_features': 'sqrt'}. Best is trial 95 with value: 0.9564144736842106.\n",
      "[I 2025-04-15 20:16:40,068] Trial 97 finished with value: 0.9523026315789473 and parameters: {'n_estimators': 50, 'max_depth': 13, 'min_samples_split': 13, 'min_samples_leaf': 6, 'max_features': 'sqrt'}. Best is trial 95 with value: 0.9564144736842106.\n"
     ]
    },
    {
     "name": "stderr",
     "output_type": "stream",
     "text": [
      "[I 2025-04-15 20:16:40,225] Trial 98 finished with value: 0.9161184210526316 and parameters: {'n_estimators': 54, 'max_depth': 17, 'min_samples_split': 14, 'min_samples_leaf': 7, 'max_features': None}. Best is trial 95 with value: 0.9564144736842106.\n",
      "[I 2025-04-15 20:16:40,416] Trial 99 finished with value: 0.9547697368421053 and parameters: {'n_estimators': 64, 'max_depth': 14, 'min_samples_split': 12, 'min_samples_leaf': 4, 'max_features': 'sqrt'}. Best is trial 95 with value: 0.9564144736842106.\n",
      "[I 2025-04-15 20:16:40,605] Trial 100 finished with value: 0.9523026315789473 and parameters: {'n_estimators': 66, 'max_depth': 16, 'min_samples_split': 12, 'min_samples_leaf': 5, 'max_features': 'sqrt'}. Best is trial 95 with value: 0.9564144736842106.\n",
      "[I 2025-04-15 20:16:40,780] Trial 101 finished with value: 0.9547697368421053 and parameters: {'n_estimators': 60, 'max_depth': 14, 'min_samples_split': 12, 'min_samples_leaf': 4, 'max_features': 'sqrt'}. Best is trial 95 with value: 0.9564144736842106.\n",
      "[I 2025-04-15 20:16:40,954] Trial 102 finished with value: 0.9547697368421053 and parameters: {'n_estimators': 63, 'max_depth': 13, 'min_samples_split': 12, 'min_samples_leaf': 4, 'max_features': 'sqrt'}. Best is trial 95 with value: 0.9564144736842106.\n",
      "[I 2025-04-15 20:16:41,113] Trial 103 finished with value: 0.9572368421052632 and parameters: {'n_estimators': 54, 'max_depth': 12, 'min_samples_split': 12, 'min_samples_leaf': 4, 'max_features': 'sqrt'}. Best is trial 103 with value: 0.9572368421052632.\n",
      "[I 2025-04-15 20:16:41,286] Trial 104 finished with value: 0.9523026315789473 and parameters: {'n_estimators': 57, 'max_depth': 13, 'min_samples_split': 12, 'min_samples_leaf': 5, 'max_features': 'sqrt'}. Best is trial 103 with value: 0.9572368421052632.\n",
      "[I 2025-04-15 20:16:41,460] Trial 105 finished with value: 0.9572368421052633 and parameters: {'n_estimators': 53, 'max_depth': 11, 'min_samples_split': 13, 'min_samples_leaf': 4, 'max_features': 'sqrt'}. Best is trial 105 with value: 0.9572368421052633.\n",
      "[I 2025-04-15 20:16:41,618] Trial 106 finished with value: 0.9564144736842106 and parameters: {'n_estimators': 51, 'max_depth': 11, 'min_samples_split': 13, 'min_samples_leaf': 4, 'max_features': 'sqrt'}. Best is trial 105 with value: 0.9572368421052633.\n",
      "[I 2025-04-15 20:16:41,778] Trial 107 finished with value: 0.9457236842105263 and parameters: {'n_estimators': 54, 'max_depth': 9, 'min_samples_split': 13, 'min_samples_leaf': 10, 'max_features': 'sqrt'}. Best is trial 105 with value: 0.9572368421052633.\n",
      "[I 2025-04-15 20:16:41,937] Trial 108 finished with value: 0.950657894736842 and parameters: {'n_estimators': 52, 'max_depth': 11, 'min_samples_split': 14, 'min_samples_leaf': 4, 'max_features': 'sqrt'}. Best is trial 105 with value: 0.9572368421052633.\n",
      "[I 2025-04-15 20:16:42,113] Trial 109 finished with value: 0.9449013157894737 and parameters: {'n_estimators': 66, 'max_depth': 12, 'min_samples_split': 15, 'min_samples_leaf': 6, 'max_features': 'sqrt'}. Best is trial 105 with value: 0.9572368421052633.\n",
      "[I 2025-04-15 20:16:42,538] Trial 110 finished with value: 0.9498355263157895 and parameters: {'n_estimators': 207, 'max_depth': 10, 'min_samples_split': 12, 'min_samples_leaf': 4, 'max_features': 'sqrt'}. Best is trial 105 with value: 0.9572368421052633.\n",
      "[I 2025-04-15 20:16:42,728] Trial 111 finished with value: 0.9514802631578947 and parameters: {'n_estimators': 69, 'max_depth': 14, 'min_samples_split': 13, 'min_samples_leaf': 5, 'max_features': 'sqrt'}. Best is trial 105 with value: 0.9572368421052633.\n",
      "[I 2025-04-15 20:16:42,904] Trial 112 finished with value: 0.955592105263158 and parameters: {'n_estimators': 60, 'max_depth': 15, 'min_samples_split': 13, 'min_samples_leaf': 4, 'max_features': 'sqrt'}. Best is trial 105 with value: 0.9572368421052633.\n",
      "[I 2025-04-15 20:16:43,077] Trial 113 finished with value: 0.955592105263158 and parameters: {'n_estimators': 58, 'max_depth': 15, 'min_samples_split': 13, 'min_samples_leaf': 4, 'max_features': 'sqrt'}. Best is trial 105 with value: 0.9572368421052633.\n",
      "[I 2025-04-15 20:16:43,221] Trial 114 finished with value: 0.953125 and parameters: {'n_estimators': 57, 'max_depth': 15, 'min_samples_split': 13, 'min_samples_leaf': 5, 'max_features': 'sqrt'}. Best is trial 105 with value: 0.9572368421052633.\n",
      "[I 2025-04-15 20:16:43,378] Trial 115 finished with value: 0.9514802631578948 and parameters: {'n_estimators': 54, 'max_depth': 12, 'min_samples_split': 15, 'min_samples_leaf': 4, 'max_features': 'sqrt'}. Best is trial 105 with value: 0.9572368421052633.\n",
      "[I 2025-04-15 20:16:43,536] Trial 116 finished with value: 0.9498355263157895 and parameters: {'n_estimators': 50, 'max_depth': 16, 'min_samples_split': 14, 'min_samples_leaf': 6, 'max_features': 'sqrt'}. Best is trial 105 with value: 0.9572368421052633.\n",
      "[I 2025-04-15 20:16:43,710] Trial 117 finished with value: 0.9514802631578947 and parameters: {'n_estimators': 61, 'max_depth': 15, 'min_samples_split': 14, 'min_samples_leaf': 4, 'max_features': 'sqrt'}. Best is trial 105 with value: 0.9572368421052633.\n",
      "[I 2025-04-15 20:16:43,885] Trial 118 finished with value: 0.9514802631578948 and parameters: {'n_estimators': 59, 'max_depth': 10, 'min_samples_split': 12, 'min_samples_leaf': 5, 'max_features': 'sqrt'}. Best is trial 105 with value: 0.9572368421052633.\n",
      "[I 2025-04-15 20:16:44,060] Trial 119 finished with value: 0.9078947368421053 and parameters: {'n_estimators': 64, 'max_depth': 17, 'min_samples_split': 13, 'min_samples_leaf': 12, 'max_features': None}. Best is trial 105 with value: 0.9572368421052633.\n",
      "[I 2025-04-15 20:16:44,251] Trial 120 finished with value: 0.9514802631578947 and parameters: {'n_estimators': 69, 'max_depth': 11, 'min_samples_split': 12, 'min_samples_leaf': 5, 'max_features': 'sqrt'}. Best is trial 105 with value: 0.9572368421052633.\n",
      "[I 2025-04-15 20:16:44,425] Trial 121 finished with value: 0.9547697368421053 and parameters: {'n_estimators': 63, 'max_depth': 13, 'min_samples_split': 13, 'min_samples_leaf': 4, 'max_features': 'sqrt'}. Best is trial 105 with value: 0.9572368421052633.\n",
      "[I 2025-04-15 20:16:44,583] Trial 122 finished with value: 0.9564144736842105 and parameters: {'n_estimators': 50, 'max_depth': 14, 'min_samples_split': 12, 'min_samples_leaf': 4, 'max_features': 'sqrt'}. Best is trial 105 with value: 0.9572368421052633.\n",
      "[I 2025-04-15 20:16:44,740] Trial 123 finished with value: 0.9547697368421053 and parameters: {'n_estimators': 55, 'max_depth': 14, 'min_samples_split': 13, 'min_samples_leaf': 4, 'max_features': 'sqrt'}. Best is trial 105 with value: 0.9572368421052633.\n",
      "[I 2025-04-15 20:16:44,899] Trial 124 finished with value: 0.9523026315789473 and parameters: {'n_estimators': 50, 'max_depth': 8, 'min_samples_split': 11, 'min_samples_leaf': 5, 'max_features': 'sqrt'}. Best is trial 105 with value: 0.9572368421052633.\n",
      "[I 2025-04-15 20:16:45,072] Trial 125 finished with value: 0.955592105263158 and parameters: {'n_estimators': 58, 'max_depth': 12, 'min_samples_split': 12, 'min_samples_leaf': 4, 'max_features': 'sqrt'}. Best is trial 105 with value: 0.9572368421052633.\n",
      "[I 2025-04-15 20:16:45,264] Trial 126 finished with value: 0.950657894736842 and parameters: {'n_estimators': 72, 'max_depth': 18, 'min_samples_split': 11, 'min_samples_leaf': 5, 'max_features': 'sqrt'}. Best is trial 105 with value: 0.9572368421052633.\n",
      "[I 2025-04-15 20:16:45,425] Trial 127 finished with value: 0.9498355263157895 and parameters: {'n_estimators': 57, 'max_depth': 16, 'min_samples_split': 14, 'min_samples_leaf': 6, 'max_features': 'sqrt'}. Best is trial 105 with value: 0.9572368421052633.\n",
      "[I 2025-04-15 20:16:45,582] Trial 128 finished with value: 0.9572368421052632 and parameters: {'n_estimators': 54, 'max_depth': 12, 'min_samples_split': 12, 'min_samples_leaf': 4, 'max_features': 'sqrt'}. Best is trial 105 with value: 0.9572368421052633.\n",
      "[I 2025-04-15 20:16:45,741] Trial 129 finished with value: 0.9539473684210525 and parameters: {'n_estimators': 55, 'max_depth': 15, 'min_samples_split': 13, 'min_samples_leaf': 5, 'max_features': 'sqrt'}. Best is trial 105 with value: 0.9572368421052633.\n",
      "[I 2025-04-15 20:16:46,170] Trial 130 finished with value: 0.9514802631578948 and parameters: {'n_estimators': 226, 'max_depth': 12, 'min_samples_split': 12, 'min_samples_leaf': 4, 'max_features': 'sqrt'}. Best is trial 105 with value: 0.9572368421052633.\n"
     ]
    },
    {
     "name": "stderr",
     "output_type": "stream",
     "text": [
      "[I 2025-04-15 20:16:46,330] Trial 131 finished with value: 0.955592105263158 and parameters: {'n_estimators': 51, 'max_depth': 11, 'min_samples_split': 12, 'min_samples_leaf': 4, 'max_features': 'sqrt'}. Best is trial 105 with value: 0.9572368421052633.\n",
      "[I 2025-04-15 20:16:46,488] Trial 132 finished with value: 0.9539473684210527 and parameters: {'n_estimators': 50, 'max_depth': 11, 'min_samples_split': 11, 'min_samples_leaf': 4, 'max_features': 'sqrt'}. Best is trial 105 with value: 0.9572368421052633.\n",
      "[I 2025-04-15 20:16:46,646] Trial 133 finished with value: 0.953125 and parameters: {'n_estimators': 50, 'max_depth': 12, 'min_samples_split': 13, 'min_samples_leaf': 3, 'max_features': 'sqrt'}. Best is trial 105 with value: 0.9572368421052633.\n",
      "[I 2025-04-15 20:16:46,822] Trial 134 finished with value: 0.949013157894737 and parameters: {'n_estimators': 59, 'max_depth': 10, 'min_samples_split': 12, 'min_samples_leaf': 14, 'max_features': 'sqrt'}. Best is trial 105 with value: 0.9572368421052633.\n",
      "[I 2025-04-15 20:16:47,012] Trial 135 finished with value: 0.9547697368421053 and parameters: {'n_estimators': 71, 'max_depth': 13, 'min_samples_split': 12, 'min_samples_leaf': 3, 'max_features': 'sqrt'}. Best is trial 105 with value: 0.9572368421052633.\n",
      "[I 2025-04-15 20:16:47,168] Trial 136 finished with value: 0.9473684210526316 and parameters: {'n_estimators': 56, 'max_depth': 11, 'min_samples_split': 13, 'min_samples_leaf': 2, 'max_features': 'sqrt'}. Best is trial 105 with value: 0.9572368421052633.\n",
      "[I 2025-04-15 20:16:47,360] Trial 137 finished with value: 0.9547697368421053 and parameters: {'n_estimators': 68, 'max_depth': 17, 'min_samples_split': 11, 'min_samples_leaf': 4, 'max_features': 'sqrt'}. Best is trial 105 with value: 0.9572368421052633.\n",
      "[I 2025-04-15 20:16:47,535] Trial 138 finished with value: 0.9490131578947368 and parameters: {'n_estimators': 63, 'max_depth': 9, 'min_samples_split': 14, 'min_samples_leaf': 5, 'max_features': 'sqrt'}. Best is trial 105 with value: 0.9572368421052633.\n",
      "[I 2025-04-15 20:16:47,693] Trial 139 finished with value: 0.9555921052631579 and parameters: {'n_estimators': 54, 'max_depth': 15, 'min_samples_split': 12, 'min_samples_leaf': 3, 'max_features': 'sqrt'}. Best is trial 105 with value: 0.9572368421052633.\n",
      "[I 2025-04-15 20:16:47,853] Trial 140 finished with value: 0.9523026315789475 and parameters: {'n_estimators': 54, 'max_depth': 19, 'min_samples_split': 11, 'min_samples_leaf': 3, 'max_features': 'sqrt'}. Best is trial 105 with value: 0.9572368421052633.\n",
      "[I 2025-04-15 20:16:48,201] Trial 141 finished with value: 0.9514802631578948 and parameters: {'n_estimators': 178, 'max_depth': 15, 'min_samples_split': 12, 'min_samples_leaf': 4, 'max_features': 'sqrt'}. Best is trial 105 with value: 0.9572368421052633.\n",
      "[I 2025-04-15 20:16:48,374] Trial 142 finished with value: 0.953125 and parameters: {'n_estimators': 59, 'max_depth': 16, 'min_samples_split': 13, 'min_samples_leaf': 3, 'max_features': 'sqrt'}. Best is trial 105 with value: 0.9572368421052633.\n",
      "[I 2025-04-15 20:16:48,532] Trial 143 finished with value: 0.9572368421052632 and parameters: {'n_estimators': 54, 'max_depth': 18, 'min_samples_split': 12, 'min_samples_leaf': 4, 'max_features': 'sqrt'}. Best is trial 105 with value: 0.9572368421052633.\n",
      "[I 2025-04-15 20:16:48,691] Trial 144 finished with value: 0.9555921052631579 and parameters: {'n_estimators': 54, 'max_depth': 18, 'min_samples_split': 12, 'min_samples_leaf': 3, 'max_features': 'sqrt'}. Best is trial 105 with value: 0.9572368421052633.\n",
      "[I 2025-04-15 20:16:48,835] Trial 145 finished with value: 0.9547697368421053 and parameters: {'n_estimators': 53, 'max_depth': 12, 'min_samples_split': 12, 'min_samples_leaf': 2, 'max_features': 'sqrt'}. Best is trial 105 with value: 0.9572368421052633.\n",
      "[I 2025-04-15 20:16:48,992] Trial 146 finished with value: 0.9333881578947368 and parameters: {'n_estimators': 50, 'max_depth': 18, 'min_samples_split': 12, 'min_samples_leaf': 3, 'max_features': None}. Best is trial 105 with value: 0.9572368421052633.\n",
      "[I 2025-04-15 20:16:49,136] Trial 147 finished with value: 0.9490131578947368 and parameters: {'n_estimators': 58, 'max_depth': 13, 'min_samples_split': 13, 'min_samples_leaf': 2, 'max_features': 'sqrt'}. Best is trial 105 with value: 0.9572368421052633.\n",
      "[I 2025-04-15 20:16:49,326] Trial 148 finished with value: 0.9547697368421053 and parameters: {'n_estimators': 67, 'max_depth': 17, 'min_samples_split': 12, 'min_samples_leaf': 3, 'max_features': 'sqrt'}. Best is trial 105 with value: 0.9572368421052633.\n",
      "[I 2025-04-15 20:16:49,497] Trial 149 finished with value: 0.9539473684210527 and parameters: {'n_estimators': 55, 'max_depth': 14, 'min_samples_split': 11, 'min_samples_leaf': 4, 'max_features': 'sqrt'}. Best is trial 105 with value: 0.9572368421052633.\n"
     ]
    },
    {
     "name": "stdout",
     "output_type": "stream",
     "text": [
      "Лучшие параметры: {'n_estimators': 53, 'max_depth': 11, 'min_samples_split': 13, 'min_samples_leaf': 4, 'max_features': 'sqrt'}\n",
      "Лучший accuracy: 0.9572368421052633\n"
     ]
    }
   ],
   "source": [
    "import sklearn\n",
    "import optuna\n",
    "from sklearn.ensemble import RandomForestClassifier\n",
    "from sklearn.metrics import roc_auc_score\n",
    "\n",
    "\n",
    "\n",
    "def objective(trial):\n",
    "    n_estimators = trial.suggest_int('n_estimators', 50, 300)\n",
    "    max_depth = trial.suggest_int('max_depth', 2, 32, log=True)\n",
    "    min_samples_split = trial.suggest_int('min_samples_split', 2, 20)\n",
    "    min_samples_leaf = trial.suggest_int('min_samples_leaf', 1, 20)\n",
    "    max_features = trial.suggest_categorical('max_features', ['sqrt', 'log2', None])\n",
    "\n",
    "    clf = RandomForestClassifier(\n",
    "        n_estimators=n_estimators,\n",
    "        max_depth=max_depth,\n",
    "        min_samples_split=min_samples_split,\n",
    "        min_samples_leaf=min_samples_leaf,\n",
    "        max_features=max_features,\n",
    "        random_state=42,\n",
    "        n_jobs=-1\n",
    "    )\n",
    "\n",
    "    clf.fit(X_train, y_train)\n",
    "    score = roc_auc_score(y_val, clf.predict_proba(X_val)[:, 1])\n",
    "    return score\n",
    "\n",
    "study = optuna.create_study(direction='maximize')\n",
    "study.optimize(objective, n_trials=150)\n",
    "\n",
    "print(\"Лучшие параметры:\", study.best_params)\n",
    "print(\"Лучший accuracy:\", study.best_value)\n"
   ]
  },
  {
   "cell_type": "code",
   "execution_count": 53,
   "id": "ce51a3aa",
   "metadata": {},
   "outputs": [
    {
     "name": "stdout",
     "output_type": "stream",
     "text": [
      "0.9301994301994302\n",
      "0.9066666666666666\n"
     ]
    }
   ],
   "source": [
    "from sklearn.metrics import accuracy_score\n",
    "clf = RandomForestClassifier(\n",
    "        n_estimators=study.best_params['n_estimators'],\n",
    "        max_depth=study.best_params['max_depth'],\n",
    "        min_samples_split=study.best_params['min_samples_split'],\n",
    "        min_samples_leaf=study.best_params['min_samples_leaf'],\n",
    "        max_features=study.best_params['max_features'],\n",
    "        random_state=42,\n",
    "        n_jobs=-1\n",
    "    )\n",
    "clf.fit(X_train, y_train)\n",
    "print(roc_auc_score(y_test, clf.predict_proba(X_test)[:, 1]))\n",
    "print(accuracy_score(y_test, clf.predict_proba(X_test)[:, 1]>0.5))"
   ]
  },
  {
   "cell_type": "code",
   "execution_count": 54,
   "id": "91400a16",
   "metadata": {},
   "outputs": [
    {
     "name": "stdout",
     "output_type": "stream",
     "text": [
      "           feature  importance\n",
      "0         diameter    0.518988\n",
      "1         subtlety    0.208118\n",
      "9  calcification_6    0.092492\n",
      "6  calcification_3    0.090177\n",
      "3           margin    0.044840\n",
      "2       sphericity    0.022571\n",
      "5    Contrast_True    0.011558\n",
      "4          texture    0.011257\n",
      "7  calcification_4    0.000000\n",
      "8  calcification_5    0.000000\n"
     ]
    }
   ],
   "source": [
    "importances = clf.feature_importances_\n",
    "\n",
    "feature_names = X_train.columns  \n",
    "\n",
    "feature_importance_df = pd.DataFrame({\n",
    "    'feature': feature_names,\n",
    "    'importance': importances\n",
    "}).sort_values(by='importance', ascending=False)\n",
    "\n",
    "print(feature_importance_df)"
   ]
  },
  {
   "cell_type": "code",
   "execution_count": null,
   "id": "d76abff2",
   "metadata": {},
   "outputs": [],
   "source": []
  },
  {
   "cell_type": "code",
   "execution_count": null,
   "id": "4cbbaf1e",
   "metadata": {},
   "outputs": [],
   "source": []
  },
  {
   "cell_type": "code",
   "execution_count": null,
   "id": "032f8920",
   "metadata": {},
   "outputs": [],
   "source": []
  },
  {
   "cell_type": "code",
   "execution_count": null,
   "id": "b220bc6a",
   "metadata": {},
   "outputs": [],
   "source": []
  },
  {
   "cell_type": "code",
   "execution_count": null,
   "id": "e7a17489",
   "metadata": {},
   "outputs": [],
   "source": []
  }
 ],
 "metadata": {
  "kernelspec": {
   "display_name": "Python 3 (ipykernel)",
   "language": "python",
   "name": "python3"
  },
  "language_info": {
   "codemirror_mode": {
    "name": "ipython",
    "version": 3
   },
   "file_extension": ".py",
   "mimetype": "text/x-python",
   "name": "python",
   "nbconvert_exporter": "python",
   "pygments_lexer": "ipython3",
   "version": "3.9.12"
  }
 },
 "nbformat": 4,
 "nbformat_minor": 5
}
